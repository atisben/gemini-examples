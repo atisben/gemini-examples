{
 "cells": [
  {
   "cell_type": "code",
   "execution_count": null,
   "metadata": {},
   "outputs": [],
   "source": [
    "import vertexai\n",
    "from vertexai.preview.vision_models import Image, ImageGenerationModel\n",
    "\n",
    "# TODO(developer): Update and un-comment below lines\n",
    "# project_id = \"PROJECT_ID\"\n",
    "# input_file = \"my-input.png\"\n",
    "# mask_file = \"my-mask.png\"\n",
    "# output_file = \"my-output.png\"\n",
    "# prompt = \"\" # The text prompt describing what you want to see inserted.\n",
    "\n",
    "vertexai.init(project=project_id, location=\"us-central1\")\n",
    "\n",
    "model = ImageGenerationModel.from_pretrained(\"imagegeneration@006\") #\"imagegeneration@002\" for imagenv2\n",
    "base_img = Image.load_from_file(location=input_file)\n",
    "mask_img = Image.load_from_file(location=mask_file)\n",
    "\n",
    "images = model.edit_image(\n",
    "    base_image=base_img,\n",
    "    mask=mask_img,\n",
    "    seed=1,\n",
    "    # Controls the strength of the prompt.\n",
    "    # -- 0-9 (low strength), 10-20 (medium strength), 21+ (high strength),\n",
    "    guidance_scale=21,\n",
    "    number_of_images=1,\n",
    "    prompt=prompt,\n",
    "    edit_mode=\"inpainting-insert\",\n",
    ")\n",
    "\n",
    "images[0].save(location=output_file, include_generation_parameters=False)\n",
    "\n",
    "# Optional. View the edited image in a notebook.\n",
    "# images[0].show()\n",
    "\n",
    "print(f\"Created output image using {len(images[0]._image_bytes)} bytes\")"
   ]
  },
  {
   "cell_type": "markdown",
   "metadata": {},
   "source": [
    "## Modify the content of the image without masking"
   ]
  },
  {
   "cell_type": "code",
   "execution_count": null,
   "metadata": {},
   "outputs": [],
   "source": [
    "\n",
    "model = ImageGenerationModel.from_pretrained(\"imagegeneration@002\")\n",
    "base_img = Image.load_from_file(location=input_file)\n",
    "\n",
    "images = model.edit_image(\n",
    "    base_image=base_img,\n",
    "    prompt=prompt,\n",
    "    # Optional parameters\n",
    "    seed=1,\n",
    "    # Controls the strength of the prompt.\n",
    "    # -- 0-9 (low strength), 10-20 (medium strength), 21+ (high strength)\n",
    "    guidance_scale=21,\n",
    "    number_of_images=1,\n",
    ")\n",
    "\n",
    "images[0].save(location=output_file, include_generation_parameters=False)\n",
    "\n",
    "# Optional. View the edited image in a notebook.\n",
    "# images[0].show()\n",
    "\n",
    "print(f\"Created output image using {len(images[0]._image_bytes)} bytes\")\n",
    "# Example response:\n",
    "# Created output image using 1234567 bytes"
   ]
  }
 ],
 "metadata": {
  "kernelspec": {
   "display_name": ".venv",
   "language": "python",
   "name": "python3"
  },
  "language_info": {
   "name": "python",
   "version": "3.12.8"
  }
 },
 "nbformat": 4,
 "nbformat_minor": 2
}
