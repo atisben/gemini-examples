{
 "cells": [
  {
   "cell_type": "markdown",
   "metadata": {},
   "source": [
    "Question: Implement a function conv2d(input, kernel) that performs 2D convolution on a 2D input array with a 2D kernel. Assume no padding and a stride of 1. The function should: \n",
    "Accept a 2D numpy array as input and a 2D numpy array as the kernel. \n",
    "Perform the convolution operation. \n",
    "Return the result as a 2D numpy array. \n",
    "Provide an example of how to use this function. "
   ]
  },
  {
   "cell_type": "code",
   "execution_count": 1,
   "metadata": {},
   "outputs": [],
   "source": [
    "import numpy as np "
   ]
  },
  {
   "cell_type": "code",
   "execution_count": 2,
   "metadata": {},
   "outputs": [],
   "source": [
    "input = np.array([[1, 2, 3], \n",
    "                  [4, 5, 6], \n",
    "                  [7, 8, 9]]) \n",
    " \n",
    "kernel = np.array([[1, 0], \n",
    "                   [0, 1]])\n",
    " "
   ]
  },
  {
   "cell_type": "code",
   "execution_count": 3,
   "metadata": {},
   "outputs": [
    {
     "ename": "ValueError",
     "evalue": "operands could not be broadcast together with shapes (3,3) (2,2) ",
     "output_type": "error",
     "traceback": [
      "\u001b[1;31m---------------------------------------------------------------------------\u001b[0m",
      "\u001b[1;31mValueError\u001b[0m                                Traceback (most recent call last)",
      "Cell \u001b[1;32mIn[3], line 1\u001b[0m\n\u001b[1;32m----> 1\u001b[0m \u001b[38;5;28;43minput\u001b[39;49m\u001b[43m \u001b[49m\u001b[38;5;241;43m*\u001b[39;49m\u001b[43m \u001b[49m\u001b[43mkernel\u001b[49m\n",
      "\u001b[1;31mValueError\u001b[0m: operands could not be broadcast together with shapes (3,3) (2,2) "
     ]
    }
   ],
   "source": [
    "input * kernel"
   ]
  },
  {
   "cell_type": "code",
   "execution_count": null,
   "metadata": {},
   "outputs": [],
   "source": [
    "You're given a sorted array of n integers which could contain consecutive duplicates. Your task is to modify the array such that it becomes strictly increasing.  \n",
    "To clarify, a strictly increasing array is an array where each element is greater than its preceding element. On the other hand, an interpolating strategy is a method of estimating values that follow a specific pattern based on the existing values. \n",
    "For example, if you're given the array [1, 2, 2, 3], one possible way to make this array strictly increasing is to interpolate the duplicate 2s in such a way that they gradually increase, resulting in an array such as [1, 2, 2.5, 3]. "
   ]
  },
  {
   "cell_type": "markdown",
   "metadata": {},
   "source": []
  },
  {
   "cell_type": "markdown",
   "metadata": {},
   "source": [
    "You're given a sorted array of n integers which could contain consecutive duplicates. Your task is to modify the array such that it becomes strictly increasing.  \n",
    "To clarify, a strictly increasing array is an array where each element is greater than its preceding element. On the other hand, an interpolating strategy is a method of estimating values that follow a specific pattern based on the existing values. \n",
    "For example, if you're given the array [1, 2, 2, 3], one possible way to make this array strictly increasing is to interpolate the duplicate 2s in such a way that they gradually increase, resulting in an array such as [1, 2, 2.5, 3]. "
   ]
  },
  {
   "cell_type": "code",
   "execution_count": 28,
   "metadata": {},
   "outputs": [
    {
     "name": "stdout",
     "output_type": "stream",
     "text": [
      "1\n",
      "new number\n",
      "2 added  1.0\n",
      "2 added  1.0\n",
      "2 added  1.0\n",
      "2\n",
      "new number\n",
      "2\n",
      "2\n",
      "2\n",
      "2\n",
      "2\n",
      "2\n",
      "2\n",
      "2\n",
      "3\n",
      "new number\n",
      "4\n",
      "new number\n",
      "[1, 2, 2, 2, 2, 2, 2, 2, 2, 2, 3, 4]\n",
      "1\n"
     ]
    }
   ],
   "source": [
    "arr = [1, 2, 2, 2, 2, 2, 2, 2, 2, 2, 3, 4]\n",
    "\n",
    "counter_dict = {}\n",
    "counter = 1\n",
    "\n",
    "for i in range(len(arr)):\n",
    "    print(arr[i])\n",
    "    \n",
    "    if arr[i] != arr[i-1]:\n",
    "        print(\"new number\")\n",
    "        start_id = arr[i]\n",
    "        end_id = arr[i-1]\n",
    "\n",
    "        # repalce all the elmemtns of the list from start to end by 1/coounter\n",
    "        for i in arr[start_id:end_id]:\n",
    "            print(i, \"added \", 1/counter)\n",
    "            i += 1/counter\n",
    "        # Reset the counter\n",
    "        counter = 1\n",
    "    else:\n",
    "        counter += 1\n",
    "\n",
    "\n",
    "print(arr)\n",
    "print(counter)\n"
   ]
  },
  {
   "cell_type": "code",
   "execution_count": 23,
   "metadata": {},
   "outputs": [
    {
     "ename": "IndentationError",
     "evalue": "unexpected indent (1250545676.py, line 2)",
     "output_type": "error",
     "traceback": [
      "\u001b[1;36m  Cell \u001b[1;32mIn[23], line 2\u001b[1;36m\u001b[0m\n\u001b[1;33m    print(key)\u001b[0m\n\u001b[1;37m    ^\u001b[0m\n\u001b[1;31mIndentationError\u001b[0m\u001b[1;31m:\u001b[0m unexpected indent\n"
     ]
    }
   ],
   "source": [
    "counter_dict.keys()"
   ]
  }
 ],
 "metadata": {
  "kernelspec": {
   "display_name": ".venv",
   "language": "python",
   "name": "python3"
  },
  "language_info": {
   "codemirror_mode": {
    "name": "ipython",
    "version": 3
   },
   "file_extension": ".py",
   "mimetype": "text/x-python",
   "name": "python",
   "nbconvert_exporter": "python",
   "pygments_lexer": "ipython3",
   "version": "3.12.7"
  }
 },
 "nbformat": 4,
 "nbformat_minor": 2
}
