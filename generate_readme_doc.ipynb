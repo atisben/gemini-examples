{
 "cells": [
  {
   "cell_type": "code",
   "execution_count": null,
   "metadata": {},
   "outputs": [],
   "source": [
    "import vertexai\n",
    "from vertexai.generative_models import GenerativeModel, Part\n",
    "import os\n",
    "from dotenv import load_dotenv\n",
    "load_dotenv(override=True)\n",
    "import pprint"
   ]
  },
  {
   "cell_type": "code",
   "execution_count": null,
   "metadata": {},
   "outputs": [],
   "source": [
    "vertexai.init(project=os.getenv(\"PROJECT_ID\"), location=os.getenv(\"LOCATION\"))"
   ]
  },
  {
   "cell_type": "markdown",
   "metadata": {},
   "source": [
    "### Readme from prommt"
   ]
  },
  {
   "cell_type": "code",
   "execution_count": null,
   "metadata": {},
   "outputs": [],
   "source": [
    "model = GenerativeModel(\"gemini-1.5-flash-002\")\n",
    "\n",
    "prompt = \"\"\"\n",
    "        You are a professional Readme file writer, write a readme.md file the explain the projet.\n",
    "        The project aims to to provide a bunch of python notebook that interact with Gemini generative AI API \n",
    "        this is a sample project that is based on the following documentation\n",
    "        https://cloud.google.com/vertex-ai/generative-ai/docs/samples/generativeaionvertexai-gemini-pro-example\n",
    "        \n",
    "\"\"\"\n",
    "\n",
    "# Query the model\n",
    "response = model.generate_content([prompt])"
   ]
  },
  {
   "cell_type": "code",
   "execution_count": null,
   "metadata": {},
   "outputs": [],
   "source": [
    "with open(\"readme.md\", \"w\") as file:\n",
    "    file.write(response.text)"
   ]
  },
  {
   "cell_type": "markdown",
   "metadata": {},
   "source": [
    "### Readme from existing file"
   ]
  },
  {
   "cell_type": "code",
   "execution_count": 1,
   "metadata": {},
   "outputs": [],
   "source": [
    "import os\n",
    "import subprocess\n",
    "\n",
    "def convert_ipynb_to_pdf(notebook_path, output_dir=\".\", output_filename=None):\n",
    "    \"\"\"\n",
    "    Converts a Jupyter Notebook (.ipynb) file to a PDF file using nbconvert.\n",
    "\n",
    "    Args:\n",
    "        notebook_path (str): The path to the Jupyter Notebook file.\n",
    "        output_dir (str, optional): The directory to save the PDF file in. Defaults to \".\".\n",
    "        output_filename (str, optional): The desired filename for the PDF.\n",
    "            If None, the PDF file will have the same name as the notebook.\n",
    "    \"\"\"\n",
    "\n",
    "    if not notebook_path.endswith(\".ipynb\"):\n",
    "      raise ValueError(\"Input file must have the .ipynb extension\")\n",
    "\n",
    "    if not os.path.exists(notebook_path):\n",
    "        raise FileNotFoundError(f\"Notebook file not found at: {notebook_path}\")\n",
    "\n",
    "\n",
    "    # Determine the output PDF path\n",
    "    if output_filename is None:\n",
    "      output_filename = os.path.splitext(os.path.basename(notebook_path))[0] + \".pdf\"\n",
    "    output_path = os.path.join(output_dir, output_filename)\n",
    "\n",
    "    # Construct the nbconvert command\n",
    "    command = [\n",
    "        \"jupyter\",\n",
    "        \"nbconvert\",\n",
    "        \"--to\",\n",
    "        \"pdf\",\n",
    "        \"--output\",\n",
    "        output_path,\n",
    "        notebook_path,\n",
    "    ]\n",
    "    print(\"Running nbconvert command:\")\n",
    "    print(\" \".join(command))\n",
    "\n",
    "    try:\n",
    "        # Execute the command\n",
    "        subprocess.run(command, check=True, capture_output=True, text=True)\n",
    "        print(f\"PDF file created successfully at: {output_path}\")\n",
    "    except subprocess.CalledProcessError as e:\n",
    "        print(f\"Error during conversion: {e}\")\n",
    "        print(\"Stdout:\", e.stdout)\n",
    "        print(\"Stderr:\", e.stderr)\n",
    "        print(\"Make sure LaTeX is installed on your system\")\n",
    "        \n",
    "    except FileNotFoundError:\n",
    "        print(\"Error: Jupyter or nbconvert is not installed\")\n",
    "        print(\"Please install using: `pip install jupyter nbconvert`\")\n"
   ]
  },
  {
   "cell_type": "code",
   "execution_count": 2,
   "metadata": {},
   "outputs": [
    {
     "name": "stdout",
     "output_type": "stream",
     "text": [
      "Running nbconvert command:\n",
      "jupyter nbconvert --to pdf --output output_pdfs\\generate_readme_doc.pdf generate_readme_doc.ipynb\n",
      "Error during conversion: Command '['jupyter', 'nbconvert', '--to', 'pdf', '--output', 'output_pdfs\\\\generate_readme_doc.pdf', 'generate_readme_doc.ipynb']' returned non-zero exit status 1.\n",
      "Stdout: \n",
      "Stderr: [NbConvertApp] Converting notebook generate_readme_doc.ipynb to pdf\n",
      "[NbConvertApp] Writing 22529 bytes to notebook.tex\n",
      "[NbConvertApp] Building PDF\n",
      "Traceback (most recent call last):\n",
      "  File \"<frozen runpy>\", line 198, in _run_module_as_main\n",
      "  File \"<frozen runpy>\", line 88, in _run_code\n",
      "  File \"c:\\Users\\User\\gemini-examples\\.venv\\Scripts\\jupyter-nbconvert.EXE\\__main__.py\", line 7, in <module>\n",
      "  File \"c:\\Users\\User\\gemini-examples\\.venv\\Lib\\site-packages\\jupyter_core\\application.py\", line 283, in launch_instance\n",
      "    super().launch_instance(argv=argv, **kwargs)\n",
      "  File \"c:\\Users\\User\\gemini-examples\\.venv\\Lib\\site-packages\\traitlets\\config\\application.py\", line 1075, in launch_instance\n",
      "    app.start()\n",
      "  File \"c:\\Users\\User\\gemini-examples\\.venv\\Lib\\site-packages\\nbconvert\\nbconvertapp.py\", line 420, in start\n",
      "    self.convert_notebooks()\n",
      "  File \"c:\\Users\\User\\gemini-examples\\.venv\\Lib\\site-packages\\nbconvert\\nbconvertapp.py\", line 597, in convert_notebooks\n",
      "    self.convert_single_notebook(notebook_filename)\n",
      "  File \"c:\\Users\\User\\gemini-examples\\.venv\\Lib\\site-packages\\nbconvert\\nbconvertapp.py\", line 563, in convert_single_notebook\n",
      "    output, resources = self.export_single_notebook(\n",
      "                        ^^^^^^^^^^^^^^^^^^^^^^^^^^^^\n",
      "  File \"c:\\Users\\User\\gemini-examples\\.venv\\Lib\\site-packages\\nbconvert\\nbconvertapp.py\", line 487, in export_single_notebook\n",
      "    output, resources = self.exporter.from_filename(\n",
      "                        ^^^^^^^^^^^^^^^^^^^^^^^^^^^^\n",
      "  File \"c:\\Users\\User\\gemini-examples\\.venv\\Lib\\site-packages\\nbconvert\\exporters\\templateexporter.py\", line 386, in from_filename\n",
      "    return super().from_filename(filename, resources, **kw)  # type:ignore[return-value]\n",
      "           ^^^^^^^^^^^^^^^^^^^^^^^^^^^^^^^^^^^^^^^^^^^^^^^^\n",
      "  File \"c:\\Users\\User\\gemini-examples\\.venv\\Lib\\site-packages\\nbconvert\\exporters\\exporter.py\", line 201, in from_filename\n",
      "    return self.from_file(f, resources=resources, **kw)\n",
      "           ^^^^^^^^^^^^^^^^^^^^^^^^^^^^^^^^^^^^^^^^^^^^\n",
      "  File \"c:\\Users\\User\\gemini-examples\\.venv\\Lib\\site-packages\\nbconvert\\exporters\\templateexporter.py\", line 392, in from_file\n",
      "    return super().from_file(file_stream, resources, **kw)  # type:ignore[return-value]\n",
      "           ^^^^^^^^^^^^^^^^^^^^^^^^^^^^^^^^^^^^^^^^^^^^^^^\n",
      "  File \"c:\\Users\\User\\gemini-examples\\.venv\\Lib\\site-packages\\nbconvert\\exporters\\exporter.py\", line 220, in from_file\n",
      "    return self.from_notebook_node(\n",
      "           ^^^^^^^^^^^^^^^^^^^^^^^^\n",
      "  File \"c:\\Users\\User\\gemini-examples\\.venv\\Lib\\site-packages\\nbconvert\\exporters\\pdf.py\", line 197, in from_notebook_node\n",
      "    self.run_latex(tex_file)\n",
      "  File \"c:\\Users\\User\\gemini-examples\\.venv\\Lib\\site-packages\\nbconvert\\exporters\\pdf.py\", line 166, in run_latex\n",
      "    return self.run_command(\n",
      "           ^^^^^^^^^^^^^^^^^\n",
      "  File \"c:\\Users\\User\\gemini-examples\\.venv\\Lib\\site-packages\\nbconvert\\exporters\\pdf.py\", line 120, in run_command\n",
      "    raise OSError(msg)\n",
      "OSError: xelatex not found on PATH, if you have not installed xelatex you may need to do so. Find further instructions at https://nbconvert.readthedocs.io/en/latest/install.html#installing-tex.\n",
      "\n",
      "Make sure LaTeX is installed on your system\n"
     ]
    }
   ],
   "source": [
    "\n",
    "notebook_to_convert = \"generate_readme_doc.ipynb\"  # Replace with your notebook path\n",
    "output_folder = \"output_pdfs\" # Replace with the folder you want the pdf in\n",
    "\n",
    "if not os.path.exists(output_folder):\n",
    "    os.makedirs(output_folder)\n",
    "\n",
    "convert_ipynb_to_pdf(notebook_to_convert, output_dir=output_folder)\n",
    "# Convert to a different filename\n",
    "#convert_ipynb_to_pdf(notebook_to_convert, output_dir=output_folder, output_filename=\"custom_name.pdf\")"
   ]
  }
 ],
 "metadata": {
  "kernelspec": {
   "display_name": ".venv",
   "language": "python",
   "name": "python3"
  },
  "language_info": {
   "codemirror_mode": {
    "name": "ipython",
    "version": 3
   },
   "file_extension": ".py",
   "mimetype": "text/x-python",
   "name": "python",
   "nbconvert_exporter": "python",
   "pygments_lexer": "ipython3",
   "version": "3.12.8"
  }
 },
 "nbformat": 4,
 "nbformat_minor": 2
}
