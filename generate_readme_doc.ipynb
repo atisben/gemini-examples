{
 "cells": [
  {
   "cell_type": "code",
   "execution_count": 11,
   "metadata": {},
   "outputs": [],
   "source": [
    "import vertexai\n",
    "from vertexai.generative_models import GenerativeModel, Part\n",
    "import os\n",
    "from dotenv import load_dotenv\n",
    "load_dotenv(override=True)\n",
    "import pprint\n",
    "from google import genai\n",
    "from google.genai import types\n",
    "from IPython.display import Markdown"
   ]
  },
  {
   "cell_type": "code",
   "execution_count": 3,
   "metadata": {},
   "outputs": [],
   "source": [
    "genai_client = genai.Client(\n",
    "    vertexai=True, project=os.getenv(\"PROJECT_ID\"), location='us-central1'\n",
    ")"
   ]
  },
  {
   "cell_type": "markdown",
   "metadata": {},
   "source": [
    "### Readme from prommt"
   ]
  },
  {
   "cell_type": "code",
   "execution_count": 9,
   "metadata": {},
   "outputs": [],
   "source": [
    "prompt = \"\"\"\n",
    "        You are a professional Readme file writer, write a readme.md file the explain the projet.\n",
    "        The project aims to to provide a bunch of python notebook that interact with Gemini generative AI API \n",
    "        this is a sample project that is based on the following documentation\n",
    "        https://cloud.google.com/vertex-ai/generative-ai/docs/samples/generativeaionvertexai-gemini-pro-example\n",
    "\n",
    "        Markdown:\n",
    "        \n",
    "\"\"\"\n",
    "\n",
    "# Query the model\n",
    "response = genai_client.models.generate_content(\n",
    "    model='gemini-2.0-flash-exp',\n",
    "    contents=[prompt],\n",
    "    config=types.GenerateContentConfig(\n",
    "        temperature=0\n",
    "    )\n",
    "    \n",
    ")"
   ]
  },
  {
   "cell_type": "code",
   "execution_count": 12,
   "metadata": {},
   "outputs": [
    {
     "data": {
      "text/markdown": [
       "```markdown\n",
       "# Gemini AI API Python Notebook Examples\n",
       "\n",
       "This repository contains a collection of Python notebooks demonstrating how to interact with the Gemini generative AI API using Google Cloud's Vertex AI. These notebooks provide practical examples for various use cases, allowing you to quickly get started with exploring the capabilities of Gemini.\n",
       "\n",
       "This project is based on the official Google Cloud documentation and samples found here: [https://cloud.google.com/vertex-ai/generative-ai/docs/samples/generativeaionvertexai-gemini-pro-example](https://cloud.google.com/vertex-ai/generative-ai/docs/samples/generativeaionvertexai-gemini-pro-example)\n",
       "\n",
       "## Project Overview\n",
       "\n",
       "The notebooks in this repository showcase how to:\n",
       "\n",
       "*   **Set up your environment:** Configure your Google Cloud project and authentication for accessing the Gemini API.\n",
       "*   **Generate text:** Use the Gemini Pro model to generate text based on prompts.\n",
       "*   **Explore different parameters:** Experiment with various parameters like temperature, top-p, and max output tokens to control the generation process.\n",
       "*   **Handle different input types:** Learn how to provide text prompts and potentially other input types (depending on the specific notebook).\n",
       "*   **Understand the API response:** Interpret the API response and extract the generated text.\n",
       "*   **Implement basic use cases:** Demonstrate practical applications of the Gemini API, such as creative writing, summarization, and question answering.\n",
       "\n",
       "## Getting Started\n",
       "\n",
       "To use these notebooks, you will need:\n",
       "\n",
       "1.  **A Google Cloud Platform (GCP) project:** If you don't have one, you can create a free account.\n",
       "2.  **Vertex AI API enabled:** Ensure the Vertex AI API is enabled for your GCP project.\n",
       "3.  **Python 3.7+:** Make sure you have Python 3.7 or a later version installed.\n",
       "4.  **Required Python libraries:** Install the necessary libraries using pip:\n",
       "\n",
       "    ```bash\n",
       "    pip install google-cloud-aiplatform\n",
       "    pip install google-auth\n",
       "    pip install ipykernel\n",
       "    ```\n",
       "\n",
       "5.  **Authentication:** You will need to authenticate with your Google Cloud account. The recommended way is to use Application Default Credentials (ADC). You can set this up by following the instructions in the Google Cloud documentation.\n",
       "\n",
       "## Notebook Structure\n",
       "\n",
       "The repository is organized as follows:\n",
       "\n",
       "*   `notebooks/`: This directory contains the Jupyter Notebook files.\n",
       "    *   `gemini_pro_text_generation.ipynb`: A basic example of text generation using the Gemini Pro model.\n",
       "    *   `gemini_pro_parameter_exploration.ipynb`: A notebook that explores different parameters for text generation.\n",
       "    *   `gemini_pro_use_cases.ipynb`: A notebook that demonstrates various use cases for the Gemini API.\n",
       "    *   `...`: (Add more notebooks as you create them)\n",
       "\n",
       "## How to Use the Notebooks\n",
       "\n",
       "1.  **Clone the repository:**\n",
       "    ```bash\n",
       "    git clone https://github.com/your-username/your-repo-name.git\n",
       "    cd your-repo-name\n",
       "    ```\n",
       "2.  **Install the required libraries:**\n",
       "    ```bash\n",
       "    pip install -r requirements.txt\n",
       "    ```\n",
       "3.  **Navigate to the `notebooks` directory:**\n",
       "    ```bash\n",
       "    cd notebooks\n",
       "    ```\n",
       "4.  **Start Jupyter Notebook:**\n",
       "    ```bash\n",
       "    jupyter notebook\n",
       "    ```\n",
       "5.  **Open and run the desired notebook:** Select the notebook you want to explore and execute the cells.\n",
       "\n",
       "## Contributing\n",
       "\n",
       "Contributions are welcome! If you have any improvements, bug fixes, or new notebooks to add, please feel free to submit a pull request.\n",
       "\n",
       "## License\n",
       "\n",
       "This project is licensed under the [MIT License](LICENSE).\n",
       "\n",
       "## Disclaimer\n",
       "\n",
       "This project is intended for educational and demonstration purposes. Please refer to the official Google Cloud documentation for the most up-to-date information and best practices.\n",
       "\n",
       "## Contact\n",
       "\n",
       "If you have any questions or feedback, please feel free to reach out.\n",
       "```\n"
      ],
      "text/plain": [
       "<IPython.core.display.Markdown object>"
      ]
     },
     "metadata": {},
     "output_type": "display_data"
    }
   ],
   "source": [
    "display(Markdown(response.text))"
   ]
  },
  {
   "cell_type": "code",
   "execution_count": 13,
   "metadata": {},
   "outputs": [],
   "source": [
    "with open(\"readme.md\", \"w\") as file:\n",
    "    file.write(response.text)"
   ]
  },
  {
   "cell_type": "markdown",
   "metadata": {},
   "source": [
    "### Readme from existing file"
   ]
  },
  {
   "cell_type": "code",
   "execution_count": 21,
   "metadata": {},
   "outputs": [],
   "source": [
    "file_path = \"demo_crea_checker_gemini.pdf\"  # Replace with your notebook path\n",
    "output_folder = \"output_pdfs\" # Replace with the folder you want the pdf in"
   ]
  },
  {
   "cell_type": "code",
   "execution_count": 22,
   "metadata": {},
   "outputs": [],
   "source": [
    "def pdf_to_bytes(pdf_path):  \n",
    "    \"\"\"  \n",
    "    Reads a local PDF file and converts its contents into bytes.  \n",
    "  \n",
    "    :param pdf_path: Path to the local PDF file.  \n",
    "    :return: Byte content of the PDF file.  \n",
    "    \"\"\"  \n",
    "    with open(pdf_path, 'rb') as pdf_file:  \n",
    "        pdf_bytes = pdf_file.read()  \n",
    "    return pdf_bytes  \n",
    "\n",
    "\n",
    "prompt =\"\"\" \n",
    "    Understand the Context:\n",
    "    You will receive a PDF file that contains a Jupyter notebook.\n",
    "    Your task is to create a README.md file that provides a clear and concise explanation of how to use the notebook.\n",
    "    Key Sections of the README.md:\n",
    "    Title: The name of the notebook.\n",
    "    Description: A brief description of what the notebook does.\n",
    "    Installation: Instructions on how to set up the environment to run the notebook.\n",
    "    Usage: Steps on how to execute the notebook.\n",
    "    Contents: An overview of the main sections and functionalities within the notebook.\n",
    "    Examples: Provide examples of outputs or plots generated by the notebook (if applicable).\n",
    "    Contributing: Guidelines for contributing to the notebook.\n",
    "    License: Include a standard license section.\n",
    "    Expected Output Format:\n",
    "    The output should be in Markdown format.\n",
    "    Use appropriate Markdown syntax for headers, lists, code blocks, etc.\n",
    "\n",
    "    PDF Content Analysis:\n",
    "    Extract the title from the first cell or heading of the notebook.\n",
    "    Summarize each section of the notebook, including code cells, markdown cells, and output cells.\n",
    "    Identify any dependencies or libraries used in the notebook.\n",
    "    Note any specific instructions or parameters mentioned in the notebook.\n",
    "\n",
    "    Example Output:\n",
    "\n",
    "    # [Notebook Title]  \n",
    "    \n",
    "    ## Description  \n",
    "    [Brief description of what the notebook does. Include the main objective and any key points.]  \n",
    "    \n",
    "    ## Installation  \n",
    "    To run this notebook, you will need to have the following libraries installed:  \n",
    "    \n",
    "    ```bash  \n",
    "    pip install [library1] [library2] [library3]  \n",
    "    ```\n",
    "\n",
    "\"\"\"\n",
    "\n",
    "\n",
    "bytes = pdf_to_bytes(\"inputs/\"+file_path)\n",
    "\n",
    "# Query the model\n",
    "response = genai_client.models.generate_content(\n",
    "    model='gemini-2.0-flash-exp',\n",
    "    contents=[\n",
    "            prompt,\n",
    "            types.Part.from_bytes(bytes, mime_type=\"application/pdf\")\n",
    "        ],\n",
    "    config=types.GenerateContentConfig(\n",
    "        temperature=0\n",
    "    )\n",
    "    \n",
    ")"
   ]
  },
  {
   "cell_type": "code",
   "execution_count": 23,
   "metadata": {},
   "outputs": [],
   "source": [
    "if not os.path.exists(output_folder):\n",
    "    os.makedirs(output_folder)\n",
    "\n",
    "with open(f\"{output_folder}/{file_path.replace(\".pdf\", \".md\")}\", \"w\") as file:\n",
    "    file.write(response.text)"
   ]
  }
 ],
 "metadata": {
  "kernelspec": {
   "display_name": ".venv",
   "language": "python",
   "name": "python3"
  },
  "language_info": {
   "codemirror_mode": {
    "name": "ipython",
    "version": 3
   },
   "file_extension": ".py",
   "mimetype": "text/x-python",
   "name": "python",
   "nbconvert_exporter": "python",
   "pygments_lexer": "ipython3",
   "version": "3.12.8"
  }
 },
 "nbformat": 4,
 "nbformat_minor": 2
}
