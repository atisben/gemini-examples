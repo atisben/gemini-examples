{
 "cells": [
  {
   "cell_type": "code",
   "execution_count": 13,
   "metadata": {},
   "outputs": [
    {
     "data": {
      "text/plain": [
       "True"
      ]
     },
     "execution_count": 13,
     "metadata": {},
     "output_type": "execute_result"
    }
   ],
   "source": [
    "import os\n",
    "\n",
    "from dotenv import load_dotenv\n",
    "from IPython.display import Markdown, Video, display\n",
    "\n",
    "from google import genai\n",
    "from google.genai import types\n",
    "from google.genai.types import GenerateContentConfig\n",
    "     \n",
    "\n",
    "load_dotenv(override=True)"
   ]
  },
  {
   "cell_type": "markdown",
   "metadata": {},
   "source": [
    "### Set Google cloud project information and initialize vertexAI SDK\n",
    "\n",
    "To get started using Vertex AI , you must have an existing Google Cloud project and enable the vertexAI API."
   ]
  },
  {
   "cell_type": "code",
   "execution_count": 14,
   "metadata": {},
   "outputs": [],
   "source": [
    "# Define project information\n",
    "client = genai.Client(\n",
    "    vertexai=True, \n",
    "    project=os.getenv(\"PROJECT_ID\"), \n",
    "    location=os.getenv(\"LOCATION\")\n",
    ")"
   ]
  },
  {
   "cell_type": "code",
   "execution_count": 15,
   "metadata": {},
   "outputs": [],
   "source": [
    "generate_content_config = GenerateContentConfig(\n",
    "    temperature=1, \n",
    "    top_p=0.95, \n",
    "    max_output_tokens=8192,\n",
    "    safety_settings = [types.SafetySetting(\n",
    "      category=\"HARM_CATEGORY_HATE_SPEECH\",\n",
    "      threshold=\"OFF\"\n",
    "    ),types.SafetySetting(\n",
    "      category=\"HARM_CATEGORY_DANGEROUS_CONTENT\",\n",
    "      threshold=\"OFF\"\n",
    "    ),types.SafetySetting(\n",
    "      category=\"HARM_CATEGORY_SEXUALLY_EXPLICIT\",\n",
    "      threshold=\"OFF\"\n",
    "    ),types.SafetySetting(\n",
    "      category=\"HARM_CATEGORY_HARASSMENT\",\n",
    "      threshold=\"OFF\"\n",
    "    )],\n",
    ")"
   ]
  },
  {
   "cell_type": "code",
   "execution_count": 16,
   "metadata": {},
   "outputs": [],
   "source": [
    "def get_url_from_gcs(gcs_uri: str) -> str:\n",
    "    # converts GCS uri to url for display.\n",
    "    return gcs_uri.replace(\"gs://\", \"https://storage.googleapis.com/\").replace(\n",
    "        \" \", \"%20\"\n",
    "    )"
   ]
  },
  {
   "cell_type": "code",
   "execution_count": 17,
   "metadata": {},
   "outputs": [
    {
     "data": {
      "text/html": [
       "<video src=\"https://storage.googleapis.com/ds-genai-test-renault-ad-lib-video/a41201dc-69bc-4c74-b43b-ff54c6759bc8.mp4\" controls  >\n",
       "      Your browser does not support the <code>video</code> element.\n",
       "    </video>"
      ],
      "text/plain": [
       "<IPython.core.display.Video object>"
      ]
     },
     "metadata": {},
     "output_type": "display_data"
    }
   ],
   "source": [
    "video_analysis_prompt = \"\"\"You are an expert in politics and history. Provide a detailed analysis of the video including each speakers facial expressions and mood at key points.\"\"\"\n",
    "     \n",
    "\n",
    "# Load file directly from Google Cloud Storage\n",
    "video_uri = \"https://storage.googleapis.com/ds-genai-test-renault-ad-lib-video/a41201dc-69bc-4c74-b43b-ff54c6759bc8.mp4\"\n",
    "\n",
    "# Load contents\n",
    "contents = [\n",
    "    types.Part.from_uri(\n",
    "        file_uri=video_uri,\n",
    "        mime_type=\"video/*\",\n",
    "    ),\n",
    "    video_analysis_prompt,\n",
    "]\n",
    "\n",
    "# Display the Video\n",
    "display(Video(get_url_from_gcs(video_uri)))"
   ]
  },
  {
   "cell_type": "code",
   "execution_count": 12,
   "metadata": {},
   "outputs": [
    {
     "name": "stderr",
     "output_type": "stream",
     "text": [
      "c:\\Users\\User\\gemini-examples\\.venv\\Lib\\site-packages\\google\\auth\\_default.py:76: UserWarning: Your application has authenticated using end user credentials from Google Cloud SDK without a quota project. You might receive a \"quota exceeded\" or \"API not enabled\" error. See the following page for troubleshooting: https://cloud.google.com/docs/authentication/adc-troubleshooting/user-creds. \n",
      "  warnings.warn(_CLOUD_SDK_CREDENTIALS_WARNING)\n",
      "WARNING:google.auth._default:No project ID could be determined. Consider running `gcloud config set project` or setting the GOOGLE_CLOUD_PROJECT environment variable\n"
     ]
    },
    {
     "data": {
      "text/markdown": [
       "Certainly! Let's delve into a political and historical analysis of this video, focusing on the speaker's facial expressions, mood, and how they contribute to the overall message.\n",
       "\n",
       "**Overall Context:**\n",
       "\n",
       "The video is part of \"FUTURGEN Stories\" by the Renault Group, an automotive company. It features Cléa Martinet, the VP of Sustainability at Renault Group and Ampere. This indicates the video serves a dual purpose:\n",
       "\n",
       "1.  **Promotional:** Showcasing the company's commitment to sustainability and electric vehicles (EVs), specifically the Renault 5 E-Tech Electric.\n",
       "2.  **Thought Leadership:** Positioning Renault as an innovator that is tackling complex issues within the EV industry.\n",
       "\n",
       "**Detailed Analysis of Cléa Martinet's Presentation:**\n",
       "\n",
       "*   **0:00-0:01:**\n",
       "    *   **Expression:** Initially, she seems slightly surprised, perhaps caught off guard by the message. Her eyes widen, and her mouth forms a slight \"o\" shape.\n",
       "    *   **Mood:** The mood is light, informal, and gives a sense of spontaneity. It draws the viewer in by making it seem unscripted and genuine.\n",
       "\n",
       "*   **0:02-0:07:**\n",
       "    *   **Expression:** Cléa's expression changes to one of composure and professionalism. Her tone becomes more formal when she reads the message aloud, and her gaze is direct.\n",
       "    *   **Mood:** This shift sets the stage for a structured conversation, transitioning from playful intro to serious discussion.\n",
       "\n",
       "*   **0:14-0:21:**\n",
       "    *   **Expression:** As Cléa describes herself in three words, she smiles warmly, demonstrating approachability and engagement. Her gestures and posture are confident.\n",
       "    *   **Mood:** The mood is positive, showing confidence and a genuine passion for her role.\n",
       "\n",
       "*   **0:24-0:32:**\n",
       "    *   **Expression:** Her expression shows a brief pause as she prepares for the 10-second challenge. Then, she maintains a steady, analytical expression as she speaks about the paradoxes of the EV industry.\n",
       "    *   **Mood:** The mood becomes more urgent, as she tries to get the point across quickly.\n",
       "\n",
       "*   **0:32-0:45:**\n",
       "    *   **Expression:** During her explanation of the paradoxes (affordability, resources, responsibility), Cléa’s expression is serious and earnest. She uses hand gestures to emphasize her points.\n",
       "    *   **Mood:** A mood of thoughtful consideration and a desire to convey complexity.\n",
       "\n",
       "*   **0:48-1:01:**\n",
       "    *   **Expression:** As Cléa discusses their life-cycle approach, she uses her hands to frame her argument. Her expression is focused and authoritative.\n",
       "    *   **Mood:** A more matter-of-fact and assertive mood, demonstrating how the company will address the challenges.\n",
       "\n",
       "*   **1:01-1:18:**\n",
       "    *   **Expression:** When explaining their strategy, she presents details about sourcing, assembly, and use of low-carbon materials. There are no signs of doubt, instead, Cléa displays confidence and control.\n",
       "    *   **Mood:** A mood of competency, clarity, and confidence.\n",
       "\n",
       "*   **1:21-1:37:**\n",
       "    *   **Expression:** She is conveying the essence of their new vehicle, emphasizing its ESG attributes. Her expression and body language is earnest and open, and uses the company's manufacturing information to strengthen her points.\n",
       "    *   **Mood:** A mood of sincerity, determination, and confidence in the car's manufacturing process and the company's mission.\n",
       "\n",
       "*   **1:37-2:00:**\n",
       "    *   **Expression:** Cléa expresses enthusiasm and focuses on the importance of a circular economy. As she talks about the EV’s battery, she displays confidence and authority.\n",
       "    *   **Mood:** A mood of optimism and pride, showing that the company is aware and invested in all areas of sustainability.\n",
       "\n",
       "*   **2:00-2:10:**\n",
       "    *   **Expression:** She displays a positive disposition while giving the viewers specific percentages related to recycling. She maintains a direct and clear tone.\n",
       "    *   **Mood:** A mood of data-backed confidence.\n",
       "\n",
       "*   **2:12-2:51:**\n",
       "    *   **Expression:** When giving her final statement, Cléa's expression is relaxed and enthusiastic, expressing genuine happiness and pride in their product. A shift from professionalism to personal sentiments.\n",
       "    *   **Mood:** A mood of genuine passion and personal investment.\n",
       "\n",
       "*   **2:51-2:56:**\n",
       "    *   **Expression:** She shows self-deprecating humor and surprise when she unexpectedly ends the statement and turns to the sound engineer. She is visibly laughing.\n",
       "    *   **Mood:** The mood becomes more informal and authentic. Showing the natural side of the speaker.\n",
       "\n",
       "**Historical and Political Implications:**\n",
       "\n",
       "1.  **Decarbonization Narrative:** The video is a reflection of the current global push for decarbonization and sustainable solutions. Cléa is actively pushing that narrative.\n",
       "2.  **Industry-Wide Competition:** The EV market is intensely competitive. By emphasizing the Renault 5's ESG profile, the company attempts to differentiate itself, politically positioning themselves as a leader in responsible manufacturing.\n",
       "3.  **Geopolitics:** Mentioning that production is in France connects to broader discussions about reshoring industrial activities in Europe, a political narrative that aims to reduce reliance on non-European manufacturing.\n",
       "4.  **Societal Impact:** The reference to a life-cycle approach is intended to reassure viewers of the long-term impact of their product and the company's overall mission.\n",
       "5. **Role of a Corporation:** The video demonstrates how private corporations are positioning themselves as drivers of social and environmental change through marketing of \"ESG-Native\" products.\n",
       "\n",
       "**Summary:**\n",
       "\n",
       "Cléa Martinet's presentation balances professionalism with approachability and passion, which helps to make the complex and technical information easy to understand for the average viewer. The video attempts to establish credibility, authority, and a sense of connection with the audience. Her facial expressions and tone are instrumental in shaping the video's narrative. She is a person with expertise in the topic, rather than a marketing spokesperson.\n",
       "\n",
       "If you have another video you'd like me to analyze, feel free to share!\n"
      ],
      "text/plain": [
       "<IPython.core.display.Markdown object>"
      ]
     },
     "metadata": {},
     "output_type": "display_data"
    }
   ],
   "source": [
    "# Send to Gemini\n",
    "response = client.models.generate_content(model=\"gemini-2.0-flash-exp\", contents = contents, config=generate_content_config)\n",
    "\n",
    "# Display results\n",
    "display(Markdown(response.text))"
   ]
  },
  {
   "cell_type": "markdown",
   "metadata": {},
   "source": [
    "### Specific response schema"
   ]
  },
  {
   "cell_type": "code",
   "execution_count": null,
   "metadata": {},
   "outputs": [
    {
     "name": "stdout",
     "output_type": "stream",
     "text": [
      "{\n",
      "\"video_info\": [\n",
      "    {\n",
      "      \"description\": \"Cléa Martinet sits and receives a message prompting her to talk about sustainability.\",\n",
      "      \"timestamp\": \"00:00\",\n",
      "       \"tags\": [\"sitting\", \"message\"]\n",
      "    },\n",
      "    {\n",
      "      \"description\": \"The title screen appears, introducing Cléa Martinet, VP of Sustainability at Renault Group & Ampere.\",\n",
      "      \"timestamp\": \"00:07\",\n",
      "       \"tags\": [\"title screen\", \"Renault\", \"sustainability\"]\n",
      "    },\n",
      "   {\n",
      "      \"description\": \"Cléa is asked to describe herself in three words, and then says \\\"enthusiastic\\\", \\\"deeply committed\\\" and \\\"go-getter\\\".\",\n",
      "      \"timestamp\": \"00:15\",\n",
      "       \"tags\": [\"interview\", \"enthusiastic\", \"committed\", \"go-getter\"]\n",
      "    },\n",
      "    {\n",
      "      \"description\": \"Cléa is asked to explain EV societal issues in ten seconds. A yellow Renault 5 is displayed.\",\n",
      "      \"timestamp\": \"00:22\",\n",
      "       \"tags\": [\"interview\", \"societal issues\", \"electric vehicle\", \"Renault\"]\n",
      "    },\n",
      "    {\n",
      "      \"description\": \"Cléa explains three paradoxes in electric vehicle manufacturing, \\\"electric and affordable\\\", \\\"electric and preserving resources\\\", \\\"electric and responsible all along the value chain\\\".\",\n",
      "      \"timestamp\": \"00:24\",\n",
      "       \"tags\": [\"interview\", \"electric vehicle\", \"paradox\", \"affordable\", \"resources\", \"responsible\"]\n",
      "    },\n",
      "    {\n",
      "     \"description\": \"Cléa describes how they navigate the three paradoxes by using a life-cycle approach.\",\n",
      "     \"timestamp\": \"00:47\",\n",
      "      \"tags\": [\"interview\", \"life-cycle approach\", \"materials\"]\n",
      "    },\n",
      "    {\n",
      "      \"description\": \"Cléa explains that they source low carbon materials and assemble the car in France, in their industrial plants.\",\n",
      "      \"timestamp\": \"00:56\",\n",
      "      \"tags\": [\"assembly\", \"low-carbon\", \"industrial plants\"]\n",
      "    },\n",
      "    {\n",
      "      \"description\": \"Cléa continues to explain that their cars are lightweight, economical, and sober.  She then talks about the virtuous ecosystem they work in.\",\n",
      "       \"timestamp\": \"01:14\",\n",
      "       \"tags\": [\"lightweight\", \"economical\", \"sober\", \"ecosystem\"]\n",
      "    },\n",
      "    {\n",
      "       \"description\":\"Cléa explains their virtuous ecosystem, where 75% of suppliers are within a 300 km radius and up to 26.5% of the car's material comes from a circular economy.\",\n",
      "       \"timestamp\": \"01:33\",\n",
      "        \"tags\": [\"circular economy\", \"suppliiers\"]\n",
      "    },\n",
      "    {\n",
      "        \"description\": \"Cléa concludes that their car is made to be 85% recyclable, and goes on to say that the R5 makes her happy because it is \\\"joyful\\\" and \\\"revolutionary\\\", a \\\"smart way of tackling crisis\\\", a \\\"happy thing to see it being modern\\\"\",\n",
      "        \"timestamp\":\"02:08\",\n",
      "         \"tags\": [\"recyclable\", \"modern\", \"joyful\", \"revolutionary\", \"happy\", \"R5\"]\n",
      "    },\n",
      "        {\n",
      "        \"description\": \"Cléa ends the interview by saying that she hopes the car will \\\"go through the ages once again\\\".\",\n",
      "        \"timestamp\":\"02:38\",\n",
      "         \"tags\": [\"interview\", \"history\"]\n",
      "        },\n",
      "        {\n",
      "        \"description\": \"Cléa talks to the sound guy and laughs as she finishes.\",\n",
      "        \"timestamp\":\"02:48\",\n",
      "         \"tags\": [\"laughs\", \"sound guy\"]\n",
      "        }\n",
      "  ]\n",
      "}\n"
     ]
    }
   ],
   "source": [
    "from pydantic import BaseModel\n",
    "from typing import List, Optional\n",
    "\n",
    "video_info_schema = {\n",
    "    \"type\": \"object\",\n",
    "    \"properties\": {\n",
    "        \"video_info\": {\n",
    "            \"type\": \"array\",\n",
    "            \"items\": {\n",
    "                \"type\": \"object\",\n",
    "                \"properties\": {\n",
    "                    \"timestamp\": {\"type\": \"string\", \"description\": \"Timestamp of the event (e.g., 00:01:30)\"},\n",
    "                    \"description\": {\"type\": \"string\", \"description\": \"Description of what's happening at the timestamp\"},\n",
    "                     \"tags\": {\n",
    "                        \"type\": \"array\",\n",
    "                         \"items\": {\"type\":\"string\"},\n",
    "                         \"description\": \"List of tags about the scene (e.g., sitting, desk)\"\n",
    "                     }\n",
    "                },\n",
    "                \"required\": [\"timestamp\", \"description\"],\n",
    "            },\n",
    "        },\n",
    "    },\n",
    "    \"required\": [\"video_info\"],\n",
    "}\n",
    "\n",
    "video_analysis_prompt = \"\"\"You are an expert video analyser, for each 10 second of the video, determine the main content\"\"\"\n",
    "\n",
    "# Load file directly from Google Cloud Storage\n",
    "video_uri = \"https://storage.googleapis.com/ds-genai-test-renault-ad-lib-video/a41201dc-69bc-4c74-b43b-ff54c6759bc8.mp4\"\n",
    "\n",
    "# Load contents\n",
    "contents = [\n",
    "    types.Part.from_uri(\n",
    "        file_uri=video_uri,\n",
    "        mime_type=\"video/*\",\n",
    "    ),\n",
    "    video_analysis_prompt,\n",
    "]\n",
    "\n",
    "# Generate content \n",
    "# try:\n",
    "contents = [\n",
    "    types.Part.from_uri(\n",
    "        file_uri=video_uri,\n",
    "        mime_type=\"video/*\",\n",
    "    ),\n",
    "    video_analysis_prompt,\n",
    "]\n",
    "\n",
    "response = client.models.generate_content(\n",
    "    model = os.getenv(\"MODEL\"),\n",
    "    contents=contents,\n",
    "    config = GenerateContentConfig(\n",
    "        response_mime_type= 'application/json',\n",
    "        response_schema= video_info_schema,\n",
    "    ),\n",
    ")\n",
    "\n",
    "print(response.text)\n",
    "        "
   ]
  },
  {
   "cell_type": "code",
   "execution_count": 41,
   "metadata": {},
   "outputs": [
    {
     "data": {
      "text/plain": [
       "{'$defs': {'VideoInfo': {'properties': {'timestamp': {'title': 'Timestamp',\n",
       "     'type': 'string'},\n",
       "    'description': {'title': 'Description', 'type': 'string'}},\n",
       "   'required': ['timestamp', 'description'],\n",
       "   'title': 'VideoInfo',\n",
       "   'type': 'object'}},\n",
       " 'properties': {'video_info': {'items': {'$ref': '#/$defs/VideoInfo'},\n",
       "   'title': 'Video Info',\n",
       "   'type': 'array'}},\n",
       " 'required': ['video_info'],\n",
       " 'title': 'VideoInfoList',\n",
       " 'type': 'object'}"
      ]
     },
     "execution_count": 41,
     "metadata": {},
     "output_type": "execute_result"
    }
   ],
   "source": [
    "VideoInfoList.model_json_schema(by_alias=False)"
   ]
  },
  {
   "cell_type": "code",
   "execution_count": 34,
   "metadata": {},
   "outputs": [
    {
     "name": "stdout",
     "output_type": "stream",
     "text": [
      "Prompt Token Count: 53127\n",
      "Prompt Character Count: 126\n",
      "Prompt Token Count: 53127\n",
      "Candidates Token Count: 478\n",
      "Total Token Count: 53605\n",
      "Price:  0.06640875\n"
     ]
    }
   ],
   "source": [
    "print(f\"Prompt Token Count: {model.count_tokens(contents).total_tokens}\")\n",
    "print(f\"Prompt Character Count: {model.count_tokens(contents).total_billable_characters}\")\n",
    "\n",
    "print(f\"Prompt Token Count: {response.usage_metadata.prompt_token_count}\")\n",
    "print(f\"Candidates Token Count: {response.usage_metadata.candidates_token_count}\")\n",
    "print(f\"Total Token Count: {response.usage_metadata.total_token_count}\")\n",
    "\n",
    "price = model.count_tokens(contents).total_tokens * 1.25 /1000000\n",
    "print(\"Price: \", price)"
   ]
  }
 ],
 "metadata": {
  "kernelspec": {
   "display_name": ".venv",
   "language": "python",
   "name": "python3"
  },
  "language_info": {
   "codemirror_mode": {
    "name": "ipython",
    "version": 3
   },
   "file_extension": ".py",
   "mimetype": "text/x-python",
   "name": "python",
   "nbconvert_exporter": "python",
   "pygments_lexer": "ipython3",
   "version": "3.12.8"
  }
 },
 "nbformat": 4,
 "nbformat_minor": 2
}
