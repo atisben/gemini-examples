{
 "cells": [
  {
   "cell_type": "code",
   "execution_count": 15,
   "metadata": {},
   "outputs": [
    {
     "name": "stderr",
     "output_type": "stream",
     "text": [
      "c:\\Users\\User\\gemini-examples\\.venv\\Lib\\site-packages\\tqdm\\auto.py:21: TqdmWarning: IProgress not found. Please update jupyter and ipywidgets. See https://ipywidgets.readthedocs.io/en/stable/user_install.html\n",
      "  from .autonotebook import tqdm as notebook_tqdm\n"
     ]
    },
    {
     "data": {
      "text/plain": [
       "True"
      ]
     },
     "execution_count": 15,
     "metadata": {},
     "output_type": "execute_result"
    }
   ],
   "source": [
    "import os\n",
    "import vertexai\n",
    "from dotenv import load_dotenv\n",
    "from IPython.display import Markdown, Video, display\n",
    "from vertexai.preview.generative_models import (\n",
    "    GenerationConfig,\n",
    "    GenerativeModel,\n",
    "    HarmBlockThreshold,\n",
    "    HarmCategory,\n",
    "    Part,\n",
    ")\n",
    "import google.generativeai as genai\n",
    "     \n",
    "\n",
    "load_dotenv(override=True)"
   ]
  },
  {
   "cell_type": "markdown",
   "metadata": {},
   "source": [
    "### Set Google cloud project information and initialize vertexAI SDK\n",
    "\n",
    "To get started using Vertex AI , you must have an existing Google Cloud project and enable the vertexAI API."
   ]
  },
  {
   "cell_type": "code",
   "execution_count": null,
   "metadata": {},
   "outputs": [],
   "source": [
    "# Define project information\n",
    "PROJECT_ID = os.getenv(\"PROJECT_ID\")  \n",
    "LOCATION = os.getenv(\"LOCATION\")\n",
    "vertexai.init(project=PROJECT_ID, location=LOCATION)"
   ]
  },
  {
   "cell_type": "code",
   "execution_count": 25,
   "metadata": {},
   "outputs": [],
   "source": [
    "model = GenerativeModel(\"gemini-1.5-pro\")\n",
    "\n",
    "generation_config = GenerationConfig(temperature=1, top_p=0.95, max_output_tokens=8192)\n",
    "\n",
    "safety_settings = {\n",
    "    HarmCategory.HARM_CATEGORY_HATE_SPEECH: HarmBlockThreshold.BLOCK_ONLY_HIGH,\n",
    "    HarmCategory.HARM_CATEGORY_DANGEROUS_CONTENT: HarmBlockThreshold.BLOCK_ONLY_HIGH,\n",
    "    HarmCategory.HARM_CATEGORY_SEXUALLY_EXPLICIT: HarmBlockThreshold.BLOCK_ONLY_HIGH,\n",
    "    HarmCategory.HARM_CATEGORY_HARASSMENT: HarmBlockThreshold.BLOCK_ONLY_HIGH,\n",
    "}"
   ]
  },
  {
   "cell_type": "code",
   "execution_count": 26,
   "metadata": {},
   "outputs": [],
   "source": [
    "def get_url_from_gcs(gcs_uri: str) -> str:\n",
    "    # converts GCS uri to url for display.\n",
    "    return gcs_uri.replace(\"gs://\", \"https://storage.googleapis.com/\").replace(\n",
    "        \" \", \"%20\"\n",
    "    )"
   ]
  },
  {
   "cell_type": "code",
   "execution_count": 27,
   "metadata": {},
   "outputs": [
    {
     "data": {
      "text/html": [
       "<video src=\"https://storage.googleapis.com/ds-genai-test-renault-ad-lib-video/a41201dc-69bc-4c74-b43b-ff54c6759bc8.mp4\" controls  >\n",
       "      Your browser does not support the <code>video</code> element.\n",
       "    </video>"
      ],
      "text/plain": [
       "<IPython.core.display.Video object>"
      ]
     },
     "metadata": {},
     "output_type": "display_data"
    }
   ],
   "source": [
    "video_analysis_prompt = \"\"\"You are an expert in politics and history. Provide a detailed analysis of the video including each speakers facial expressions and mood at key points.\"\"\"\n",
    "     \n",
    "\n",
    "# Load file directly from Google Cloud Storage\n",
    "video_uri = \"https://storage.googleapis.com/ds-genai-test-renault-ad-lib-video/a41201dc-69bc-4c74-b43b-ff54c6759bc8.mp4\"\n",
    "\n",
    "# Load contents\n",
    "contents = [\n",
    "    Part.from_uri(\n",
    "        uri=video_uri,\n",
    "        mime_type=\"video/mp4\",\n",
    "    ),\n",
    "    video_analysis_prompt,\n",
    "]\n",
    "\n",
    "# Display the Video\n",
    "display(Video(get_url_from_gcs(video_uri)))"
   ]
  },
  {
   "cell_type": "code",
   "execution_count": 28,
   "metadata": {},
   "outputs": [
    {
     "data": {
      "text/markdown": [
       "The video features a single speaker, Cléa Martinet, VP Sustainability, Renault Group & Ampere. The video appears to be promotional for Renault's sustainability initiatives.\n",
       "\n",
       "**Initial Mood:**\n",
       "\n",
       "Cléa starts with a playful, almost surprised expression as she reads a message on her phone prompting her to talk about \"Planet.\" She then smiles warmly and confidently says, \"Okay, right on the topic. Let's go.\" This shift indicates her enthusiasm and readiness to engage with the topic of sustainability.\n",
       "\n",
       "**Throughout the Interview:**\n",
       "\n",
       "* **Enthusiastic & Passionate:** Cléa consistently maintains a positive and enthusiastic demeanor. Her smiles are frequent and genuine, suggesting a genuine passion for her work. When she describes herself as \"enthusiastic,\" it’s reflected in her bright expression.\n",
       "* **Confident & Knowledgeable:** She speaks clearly and confidently, using hand gestures to emphasize her points. This indicates her knowledge and expertise in the field of sustainability. She exhibits a calm confidence while explaining the \"three paradoxes\" of electric vehicle production, indicating her mastery of the subject.\n",
       "* **Thoughtful & Reflective:**  When discussing the challenges of EV production, her expression becomes more serious and she uses more deliberate hand gestures. This suggests that she is giving careful consideration to the complexities involved. \n",
       "* **Positive & Optimistic:** Despite the challenges, she ends on a positive note, expressing her happiness with Renault's approach to sustainability and hope for the future. When she talks about the R5 and its history, a hint of nostalgia appears in her eyes alongside a contented smile.\n",
       "\n",
       "**Overall Impression:**\n",
       "\n",
       "Cléa Martinet comes across as a highly credible and engaging speaker. Her passion for sustainability, combined with her expertise and optimism, makes her an effective advocate for Renault's initiatives.  Her facial expressions and tone of voice throughout the video effectively convey her personality and enhance her message.\n",
       "\n",
       "**Absence of Second Speaker:**\n",
       "\n",
       "Although the initial part of the video shows Cléa receiving a message from \"Aurélien,\" there is no second speaker present.  The message acts as a prompt to initiate the interview and set the topic.  The brief interaction adds a touch of spontaneity and  introduces the video's format.  It also avoids the formality of a traditional interview setting, creating a more relatable and informal tone. \n"
      ],
      "text/plain": [
       "<IPython.core.display.Markdown object>"
      ]
     },
     "metadata": {},
     "output_type": "display_data"
    }
   ],
   "source": [
    "# Send to Gemini\n",
    "response = model.generate_content(contents, generation_config=generation_config)\n",
    "\n",
    "# Display results\n",
    "display(Markdown(response.text))"
   ]
  },
  {
   "cell_type": "code",
   "execution_count": 29,
   "metadata": {},
   "outputs": [
    {
     "data": {
      "text/plain": [
       "candidates {\n",
       "  content {\n",
       "    role: \"model\"\n",
       "    parts {\n",
       "      text: \"The video features a single speaker, Cléa Martinet, VP Sustainability, Renault Group & Ampere. The video appears to be promotional for Renault\\'s sustainability initiatives.\\n\\n**Initial Mood:**\\n\\nCléa starts with a playful, almost surprised expression as she reads a message on her phone prompting her to talk about \\\"Planet.\\\" She then smiles warmly and confidently says, \\\"Okay, right on the topic. Let\\'s go.\\\" This shift indicates her enthusiasm and readiness to engage with the topic of sustainability.\\n\\n**Throughout the Interview:**\\n\\n* **Enthusiastic & Passionate:** Cléa consistently maintains a positive and enthusiastic demeanor. Her smiles are frequent and genuine, suggesting a genuine passion for her work. When she describes herself as \\\"enthusiastic,\\\" it’s reflected in her bright expression.\\n* **Confident & Knowledgeable:** She speaks clearly and confidently, using hand gestures to emphasize her points. This indicates her knowledge and expertise in the field of sustainability. She exhibits a calm confidence while explaining the \\\"three paradoxes\\\" of electric vehicle production, indicating her mastery of the subject.\\n* **Thoughtful & Reflective:**  When discussing the challenges of EV production, her expression becomes more serious and she uses more deliberate hand gestures. This suggests that she is giving careful consideration to the complexities involved. \\n* **Positive & Optimistic:** Despite the challenges, she ends on a positive note, expressing her happiness with Renault\\'s approach to sustainability and hope for the future. When she talks about the R5 and its history, a hint of nostalgia appears in her eyes alongside a contented smile.\\n\\n**Overall Impression:**\\n\\nCléa Martinet comes across as a highly credible and engaging speaker. Her passion for sustainability, combined with her expertise and optimism, makes her an effective advocate for Renault\\'s initiatives.  Her facial expressions and tone of voice throughout the video effectively convey her personality and enhance her message.\\n\\n**Absence of Second Speaker:**\\n\\nAlthough the initial part of the video shows Cléa receiving a message from \\\"Aurélien,\\\" there is no second speaker present.  The message acts as a prompt to initiate the interview and set the topic.  The brief interaction adds a touch of spontaneity and  introduces the video\\'s format.  It also avoids the formality of a traditional interview setting, creating a more relatable and informal tone. \\n\"\n",
       "    }\n",
       "  }\n",
       "  finish_reason: STOP\n",
       "  safety_ratings {\n",
       "    category: HARM_CATEGORY_HATE_SPEECH\n",
       "    probability: NEGLIGIBLE\n",
       "    probability_score: 0.0419921875\n",
       "    severity: HARM_SEVERITY_NEGLIGIBLE\n",
       "    severity_score: 0.0849609375\n",
       "  }\n",
       "  safety_ratings {\n",
       "    category: HARM_CATEGORY_DANGEROUS_CONTENT\n",
       "    probability: NEGLIGIBLE\n",
       "    probability_score: 0.0583496094\n",
       "    severity: HARM_SEVERITY_NEGLIGIBLE\n",
       "    severity_score: 0.078125\n",
       "  }\n",
       "  safety_ratings {\n",
       "    category: HARM_CATEGORY_HARASSMENT\n",
       "    probability: NEGLIGIBLE\n",
       "    probability_score: 0.0717773438\n",
       "    severity: HARM_SEVERITY_NEGLIGIBLE\n",
       "    severity_score: 0.129882812\n",
       "  }\n",
       "  safety_ratings {\n",
       "    category: HARM_CATEGORY_SEXUALLY_EXPLICIT\n",
       "    probability: NEGLIGIBLE\n",
       "    probability_score: 0.0415039062\n",
       "    severity: HARM_SEVERITY_NEGLIGIBLE\n",
       "    severity_score: 0.124023438\n",
       "  }\n",
       "  avg_logprobs: -0.724302475422496\n",
       "}\n",
       "usage_metadata {\n",
       "  prompt_token_count: 53127\n",
       "  candidates_token_count: 478\n",
       "  total_token_count: 53605\n",
       "}\n",
       "model_version: \"gemini-1.5-pro-001\""
      ]
     },
     "execution_count": 29,
     "metadata": {},
     "output_type": "execute_result"
    }
   ],
   "source": [
    "response"
   ]
  },
  {
   "cell_type": "code",
   "execution_count": null,
   "metadata": {},
   "outputs": [],
   "source": [
    "# TODO mettre en place un pricing"
   ]
  },
  {
   "cell_type": "code",
   "execution_count": 34,
   "metadata": {},
   "outputs": [
    {
     "name": "stdout",
     "output_type": "stream",
     "text": [
      "Prompt Token Count: 53127\n",
      "Prompt Character Count: 126\n",
      "Prompt Token Count: 53127\n",
      "Candidates Token Count: 478\n",
      "Total Token Count: 53605\n",
      "Price:  0.06640875\n"
     ]
    }
   ],
   "source": [
    "print(f\"Prompt Token Count: {model.count_tokens(contents).total_tokens}\")\n",
    "print(f\"Prompt Character Count: {model.count_tokens(contents).total_billable_characters}\")\n",
    "\n",
    "print(f\"Prompt Token Count: {response.usage_metadata.prompt_token_count}\")\n",
    "print(f\"Candidates Token Count: {response.usage_metadata.candidates_token_count}\")\n",
    "print(f\"Total Token Count: {response.usage_metadata.total_token_count}\")\n",
    "\n",
    "price = model.count_tokens(contents).total_tokens * 1.25 /1000000\n",
    "print(\"Price: \", price)"
   ]
  }
 ],
 "metadata": {
  "kernelspec": {
   "display_name": ".venv",
   "language": "python",
   "name": "python3"
  },
  "language_info": {
   "codemirror_mode": {
    "name": "ipython",
    "version": 3
   },
   "file_extension": ".py",
   "mimetype": "text/x-python",
   "name": "python",
   "nbconvert_exporter": "python",
   "pygments_lexer": "ipython3",
   "version": "3.12.8"
  }
 },
 "nbformat": 4,
 "nbformat_minor": 2
}
