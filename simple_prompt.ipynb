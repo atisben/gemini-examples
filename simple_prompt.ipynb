{
 "cells": [
  {
   "cell_type": "code",
   "execution_count": null,
   "metadata": {},
   "outputs": [],
   "source": [
    "import vertexai\n",
    "import os\n",
    "from dotenv import load_dotenv\n",
    "load_dotenv(override=True)\n",
    "import pprint\n",
    "import base64\n",
    "from google import genai\n",
    "from google.genai import types\n",
    "from google.genai.types import GenerateContentConfig\n",
    "\n",
    "\n",
    "# importing Image module from PIL package  \n",
    "from PIL import Image  "
   ]
  },
  {
   "cell_type": "code",
   "execution_count": 18,
   "metadata": {},
   "outputs": [],
   "source": [
    "client = genai.Client(\n",
    "    vertexai=True, \n",
    "    project=os.getenv(\"PROJECT_ID\"), \n",
    "    location=os.getenv(\"LOCATION\")\n",
    ")"
   ]
  },
  {
   "cell_type": "markdown",
   "metadata": {},
   "source": [
    "### Simple answer from prompt"
   ]
  },
  {
   "cell_type": "code",
   "execution_count": null,
   "metadata": {},
   "outputs": [],
   "source": [
    "generate_content_config = types.GenerateContentConfig(\n",
    "    temperature = 1,\n",
    "    top_p = 0.95,\n",
    "    max_output_tokens = 8192,\n",
    "    response_modalities = [\"TEXT\"],\n",
    "    safety_settings = [types.SafetySetting(\n",
    "      category=\"HARM_CATEGORY_HATE_SPEECH\",\n",
    "      threshold=\"OFF\"\n",
    "    ),types.SafetySetting(\n",
    "      category=\"HARM_CATEGORY_DANGEROUS_CONTENT\",\n",
    "      threshold=\"OFF\"\n",
    "    ),types.SafetySetting(\n",
    "      category=\"HARM_CATEGORY_SEXUALLY_EXPLICIT\",\n",
    "      threshold=\"OFF\"\n",
    "    ),types.SafetySetting(\n",
    "      category=\"HARM_CATEGORY_HARASSMENT\",\n",
    "      threshold=\"OFF\"\n",
    "    )],\n",
    "  )"
   ]
  },
  {
   "cell_type": "code",
   "execution_count": null,
   "metadata": {},
   "outputs": [],
   "source": [
    "response = client.models.generate_content(\n",
    "    model='gemini-2.0-flash-exp', contents='What is the current politic situation in france?',\n",
    "    config=generate_content_config\n",
    ")\n",
    "\n",
    "print(response.text)"
   ]
  },
  {
   "cell_type": "markdown",
   "metadata": {},
   "source": [
    "### Grounding with google search"
   ]
  },
  {
   "cell_type": "code",
   "execution_count": 29,
   "metadata": {},
   "outputs": [
    {
     "name": "stdout",
     "output_type": "stream",
     "text": [
      "It appears you're asking about the current status of the MSCI World ETF and whether it's a good time to invest. Here's a breakdown of the information:\n",
      "\n",
      "**What is the MSCI World ETF?**\n",
      "*   The MSCI World Index tracks the performance of large and mid-cap stocks across 23 developed countries.\n",
      "*   It's a widely recognized benchmark for global equity investors.\n",
      "*   The index is weighted by market capitalization, meaning larger companies have a bigger impact on the index's performance.\n",
      "*   It includes companies from various sectors like technology, healthcare, financials, and consumer goods.\n",
      "*   You can invest in the MSCI World Index through Exchange Traded Funds (ETFs) that track it.\n",
      "\n",
      "**Current Status of the MSCI World ETF:**\n",
      "*   **Performance:** The MSCI World index has performed strongly in 2024. The year-to-date (YTD) return is around 27.48% [2] and some ETFs tracking the index have returns close to 32%[5].\n",
      "*   **Recent Price:** The NAV (Net Asset Value) of the iShares MSCI World ETF was around $155.21 on December 18, 2024 [1], and $155.16 on December 20, 2024 [12], with some minor fluctuations. There is another iShares MSCI World Index ETF with a NAV of CAD 96.28 as of Dec 19, 2024 [7].\n",
      "*   **52 Week Range:** The 52-week high for the iShares MSCI World ETF is around $162.75 and low is around $130.46 [1]. Another iShares MSCI World Index ETF has a 52 week high/low of 98.82 and 75.20 CAD respectively [7].\n",
      "*   **Dividend:** The annual dividend for the iShares MSCI World ETF is $2.205, with a current yield of 1.42% [10]. The ex-dividend date was December 17, 2024, and the pay date was December 20, 2024 [10].\n",
      "*   **Holdings:** The index has around 1,429 constituents. The largest weighting is in US stocks (around 71.56%), followed by Japan (5.79%) and the UK (3.82%) [5]. Top sectors include information technology (24.70%), financial services (15.53%), and healthcare (12.27%) [5].\n",
      "*   **Expense Ratio:** The total expense ratio (TER) for MSCI World ETFs ranges from 0.10% to 0.50% per year [5].\n",
      "*   **Risk:** Keep in mind that crashes can last for a few years [4].\n",
      "\n",
      "**Is it the Right Time to Invest?**\n",
      "*   **Long-Term Investment:** The MSCI World Index is considered a good investment for long-term wealth growth due to its diversification and growth potential [6, 9].\n",
      "*   **Diversification:** It provides broad exposure to developed markets, which can be beneficial for diversifying a portfolio [6, 7].\n",
      "*   **Alternatives:** While the MSCI World ETF is a good starting point, some may prefer more diversification by including emerging markets [4]. Some alternatives include the MSCI ACWI or FTSE All World ETFs [4].\n",
      "*   **Considerations:** When choosing an MSCI World ETF, you should consider factors like dividend distribution, fund domicile, currency, fund size, replication strategy, cost, and taxes [6].\n",
      "\n",
      "**Important points to note:**\n",
      "*   The information about the performance and pricing is based on the most recent data available, but it can change quickly.\n",
      "*   The decision to invest depends on your personal financial situation, risk tolerance, and investment goals.\n",
      "*   It's important to do your own research and consult with a financial advisor if needed.\n",
      "\n",
      "In conclusion, the MSCI World ETF has shown strong performance recently. While it's considered a good option for long-term investors, it's important to consider your own circumstances and do your research before making any investment decisions.\n",
      "\n"
     ]
    }
   ],
   "source": [
    "google_search_tool = {'google_search': {}}\n",
    "\n",
    "generate_content_config = GenerateContentConfig(tools=[google_search_tool])\n",
    "\n",
    "\n",
    "response = client.models.generate_content(\n",
    "    model='gemini-2.0-flash-exp', contents='What is the current status of MSCI World ETF, is it the right moment to invest?',\n",
    "    config=generate_content_config\n",
    ")\n",
    "print(response.text)"
   ]
  },
  {
   "cell_type": "markdown",
   "metadata": {},
   "source": [
    "### Measure token usage"
   ]
  },
  {
   "cell_type": "code",
   "execution_count": 32,
   "metadata": {},
   "outputs": [
    {
     "name": "stdout",
     "output_type": "stream",
     "text": [
      "Candidate(content=Content(parts=[Part(video_metadata=None, thought=None, code_execution_result=None, executable_code=None, file_data=None, function_call=None, function_response=None, inline_data=None, text=\"It appears you're asking about the current status of the MSCI World ETF and whether it's a good time to invest. Here's a breakdown of the information:\\n\\n**What is the MSCI World ETF?**\\n*   The MSCI World Index tracks the performance of large and mid-cap stocks across 23 developed countries.\\n*   It's a widely recognized benchmark for global equity investors.\\n*   The index is weighted by market capitalization, meaning larger companies have a bigger impact on the index's performance.\\n*   It includes companies from various sectors like technology, healthcare, financials, and consumer goods.\\n*   You can invest in the MSCI World Index through Exchange Traded Funds (ETFs) that track it.\\n\\n**Current Status of the MSCI World ETF:**\\n*   **Performance:** The MSCI World index has performed strongly in 2024. The year-to-date (YTD) return is around 27.48% [2] and some ETFs tracking the index have returns close to 32%[5].\\n*   **Recent Price:** The NAV (Net Asset Value) of the iShares MSCI World ETF was around $155.21 on December 18, 2024 [1], and $155.16 on December 20, 2024 [12], with some minor fluctuations. There is another iShares MSCI World Index ETF with a NAV of CAD 96.28 as of Dec 19, 2024 [7].\\n*   **52 Week Range:** The 52-week high for the iShares MSCI World ETF is around $162.75 and low is around $130.46 [1]. Another iShares MSCI World Index ETF has a 52 week high/low of 98.82 and 75.20 CAD respectively [7].\\n*   **Dividend:** The annual dividend for the iShares MSCI World ETF is $2.205, with a current yield of 1.42% [10]. The ex-dividend date was December 17, 2024, and the pay date was December 20, 2024 [10].\\n*   **Holdings:** The index has around 1,429 constituents. The largest weighting is in US stocks (around 71.56%), followed by Japan (5.79%) and the UK (3.82%) [5]. Top sectors include information technology (24.70%), financial services (15.53%), and healthcare (12.27%) [5].\\n*   **Expense Ratio:** The total expense ratio (TER) for MSCI World ETFs ranges from 0.10% to 0.50% per year [5].\\n*   **Risk:** Keep in mind that crashes can last for a few years [4].\\n\\n**Is it the Right Time to Invest?**\\n*   **Long-Term Investment:** The MSCI World Index is considered a good investment for long-term wealth growth due to its diversification and growth potential [6, 9].\\n*   **Diversification:** It provides broad exposure to developed markets, which can be beneficial for diversifying a portfolio [6, 7].\\n*   **Alternatives:** While the MSCI World ETF is a good starting point, some may prefer more diversification by including emerging markets [4]. Some alternatives include the MSCI ACWI or FTSE All World ETFs [4].\\n*   **Considerations:** When choosing an MSCI World ETF, you should consider factors like dividend distribution, fund domicile, currency, fund size, replication strategy, cost, and taxes [6].\\n\\n**Important points to note:**\\n*   The information about the performance and pricing is based on the most recent data available, but it can change quickly.\\n*   The decision to invest depends on your personal financial situation, risk tolerance, and investment goals.\\n*   It's important to do your own research and consult with a financial advisor if needed.\\n\\nIn conclusion, the MSCI World ETF has shown strong performance recently. While it's considered a good option for long-term investors, it's important to consider your own circumstances and do your research before making any investment decisions.\\n\")], role='model'), citation_metadata=None, finish_message=None, token_count=None, avg_logprobs=None, finish_reason='STOP', grounding_metadata=GroundingMetadata(grounding_chunks=[GroundingChunk(retrieved_context=None, web=GroundingChunkWeb(title='easyvest.be', uri='https://vertexaisearch.cloud.google.com/grounding-api-redirect/AYygrcTec8otCmAcDJxxqf454A0hNKTK6TQ-TneIEQ4ZXi-Y0jcmSgQBxxVTvRGGOSVl49lc0uZsRkmKtfDTHXcatcx-pxrfq2JRBd08W7NnZbKz6qnf_fnY1pyF71D0GwS87mjWXS7e7b_5wrjKXC9QesDkf5EGnzjjaw==')), GroundingChunk(retrieved_context=None, web=GroundingChunkWeb(title='justetf.com', uri='https://vertexaisearch.cloud.google.com/grounding-api-redirect/AYygrcRd4v378nRc5lq9aY3P2kjxrIiXi2_fb39-n2Fi4vwea5IVdMc-Wm5KV2FqiYAzhKJKIuGT4S5WRzlL7uCHrpG2ePN6X8njKcwzXmJHdhQlAlTUZaT5I7nyC13TF70pB0cKZDn_FA43Ew0sLD30PuJ51Q==')), GroundingChunk(retrieved_context=None, web=GroundingChunkWeb(title='ft.com', uri='https://vertexaisearch.cloud.google.com/grounding-api-redirect/AYygrcSogCBMDaL0UPeJYsLMxamdkKVPzM0V1U2M0RFHLn0-DEggD3tdUnuLgi5Y1EI8TGThUfAQM3FNIUcxgDukGDJ8os6EAuA1rQEJTwbBxnHo1SErM1icpKcqsOTpZthHH2GPkHMKWTAgae_3JEpuwh2sHl65ceptJ0PjpZ5B')), GroundingChunk(retrieved_context=None, web=GroundingChunkWeb(title='morningstar.com', uri='https://vertexaisearch.cloud.google.com/grounding-api-redirect/AYygrcSwwaK3AWpNdjn2Qkfa7UpxZEK-whHWlnpfLc8r_Yn3xPgsh5xCpafLlFfvgTxptOqwvaB49mi8kjCW2NoUlWfsGjcgZ84goWPMxQXuf3riKL2SJmj8cA9rR29v0KPph3X95U6oxh9ciI_m')), GroundingChunk(retrieved_context=None, web=GroundingChunkWeb(title='justetf.com', uri='https://vertexaisearch.cloud.google.com/grounding-api-redirect/AYygrcS_Kb3OxvX6tDWPoJuDWqDVUBxL8MNiR9wD3ViQPJFsYowVMO2ZznzXeC4g2NUElzz7pNNGDWYj9ckaLY9C62BXsdpGzixhDizhPLMGj2a3Gxj0kBDHUkKoQA9uvES-B7MqcirWjTJ0QQ8ob5MtETRH3hA1o-paLYDx-KuCRQI=')), GroundingChunk(retrieved_context=None, web=GroundingChunkWeb(title='blackrock.com', uri='https://vertexaisearch.cloud.google.com/grounding-api-redirect/AYygrcTUm7nwtdgBgjvVfmHCtFpaeSP7bqxYQjsuaSxqMMofPhF38-1Be4SO31l3tfitMQZuZpDupz5Lb8rAMRJLG1PT5wGmPlVrqbWoLV2x-uoJOcwezZiS1Yba5PaoNQfU80vjiBtxWKVWUus2cwD2PTtiqB1qhGiEkQ7g8SwcLito9IuWrWbBEwz7jKVTBTwc-6DJ')), GroundingChunk(retrieved_context=None, web=GroundingChunkWeb(title='nasdaq.com', uri='https://vertexaisearch.cloud.google.com/grounding-api-redirect/AYygrcRkrBxGaEdJfYQPgWF61pCMp3XYvfR-uo0_5nseslr9MUMYQasLRm7FDF3WfYuKJ0pxpJA1-8eBW2rAum50CjN1BQQ9VK7aB3Kn9iPLQAYAVmD1Y3AEz3te2FyJBdKE76vR-DNalkXH3bi0')), GroundingChunk(retrieved_context=None, web=GroundingChunkWeb(title='ishares.com', uri='https://vertexaisearch.cloud.google.com/grounding-api-redirect/AYygrcQi5dinudvQiSpic3opQcsIIGxu-Yo-JNqVrkvPTTUdk8ryjaCbsOkmmTkzTB3HAqzeMxv8FF2-uVRsxizHobd9-4j-gAKgmRe6MSRnfUnQ8IL2Ln9KCJ34x3pv2idkhmBO_vy7BseHGqLFTUMeWFjaPr_v_dGazrYyuCgW')), GroundingChunk(retrieved_context=None, web=GroundingChunkWeb(title='boerse-frankfurt.de', uri='https://vertexaisearch.cloud.google.com/grounding-api-redirect/AYygrcQ-RqO6azZcTMHK7vjgSs9lD30izvf93P61xtetvbdWQkL4SACawe4meDwCuG3mhl34ug6uOZGtl28BLxE4UhWfvY5eD72vQ7oFWx36_bpbfdtyZ_Zg3EUH0sEmLaGrAhC9NHeoSqmaHuWX64HAsoayUVN29qybLG-t92XXx66TaVI8V0M7mxWUNECm')), GroundingChunk(retrieved_context=None, web=GroundingChunkWeb(title='curvo.eu', uri='https://vertexaisearch.cloud.google.com/grounding-api-redirect/AYygrcRYHP3X7mwo-DYL2DQNNNxwdzzIszgYuVvXmcdJ20weQUe3WS4zhusVRNXPez0dw9s1BZk54l8JA3cVm7yzSc0LLo1n8pgm6ZWKxp1_O2cxOeQE_PH_uA5-O-4kgKJFe3Hqe0Z_'))], grounding_supports=[GroundingSupport(confidence_scores=[0.9928532], grounding_chunk_indices=[0], segment=Segment(end_index=290, part_index=None, start_index=184, text='*   The MSCI World Index tracks the performance of large and mid-cap stocks across 23 developed countries.')), GroundingSupport(confidence_scores=[0.9260353], grounding_chunk_indices=[0], segment=Segment(end_index=358, part_index=None, start_index=291, text=\"*   It's a widely recognized benchmark for global equity investors.\")), GroundingSupport(confidence_scores=[0.9762906], grounding_chunk_indices=[0], segment=Segment(end_index=484, part_index=None, start_index=359, text=\"*   The index is weighted by market capitalization, meaning larger companies have a bigger impact on the index's performance.\")), GroundingSupport(confidence_scores=[0.9845195], grounding_chunk_indices=[0], segment=Segment(end_index=592, part_index=None, start_index=485, text='*   It includes companies from various sectors like technology, healthcare, financials, and consumer goods.')), GroundingSupport(confidence_scores=[0.98888934, 0.6150555, 0.82135934, 0.639489, 0.7551689], grounding_chunk_indices=[0, 1, 2, 3, 4], segment=Segment(end_index=687, part_index=None, start_index=593, text='*   You can invest in the MSCI World Index through Exchange Traded Funds (ETFs) that track it.')), GroundingSupport(confidence_scores=[0.604132], grounding_chunk_indices=[5], segment=Segment(end_index=1204, part_index=None, start_index=1111, text='There is another iShares MSCI World Index ETF with a NAV of CAD 96.28 as of Dec 19, 2024 [7].')), GroundingSupport(confidence_scores=[0.8514341, 0.86208177], grounding_chunk_indices=[6, 7], segment=Segment(end_index=1324, part_index=None, start_index=1205, text='*   **52 Week Range:** The 52-week high for the iShares MSCI World ETF is around $162.75 and low is around $130.46 [1].')), GroundingSupport(confidence_scores=[0.98947436], grounding_chunk_indices=[6], segment=Segment(end_index=1541, part_index=None, start_index=1426, text='*   **Dividend:** The annual dividend for the iShares MSCI World ETF is $2.205, with a current yield of 1.42% [10].')), GroundingSupport(confidence_scores=[0.9901371], grounding_chunk_indices=[6], segment=Segment(end_index=1630, part_index=None, start_index=1542, text='The ex-dividend date was December 17, 2024, and the pay date was December 20, 2024 [10].')), GroundingSupport(confidence_scores=[0.925455], grounding_chunk_indices=[1], segment=Segment(end_index=1689, part_index=None, start_index=1631, text='*   **Holdings:** The index has around 1,429 constituents.')), GroundingSupport(confidence_scores=[0.98951334], grounding_chunk_indices=[1], segment=Segment(end_index=1794, part_index=None, start_index=1690, text='The largest weighting is in US stocks (around 71.56%), followed by Japan (5.79%) and the UK (3.82%) [5].')), GroundingSupport(confidence_scores=[0.9900866], grounding_chunk_indices=[1], segment=Segment(end_index=1905, part_index=None, start_index=1795, text='Top sectors include information technology (24.70%), financial services (15.53%), and healthcare (12.27%) [5].')), GroundingSupport(confidence_scores=[0.987234], grounding_chunk_indices=[1], segment=Segment(end_index=2019, part_index=None, start_index=1906, text='*   **Expense Ratio:** The total expense ratio (TER) for MSCI World ETFs ranges from 0.10% to 0.50% per year [5].')), GroundingSupport(confidence_scores=[0.8058651], grounding_chunk_indices=[8], segment=Segment(end_index=2089, part_index=None, start_index=2020, text='*   **Risk:** Keep in mind that crashes can last for a few years [4].')), GroundingSupport(confidence_scores=[0.9656313], grounding_chunk_indices=[9], segment=Segment(end_index=2293, part_index=None, start_index=2127, text='*   **Long-Term Investment:** The MSCI World Index is considered a good investment for long-term wealth growth due to its diversification and growth potential [6, 9].')), GroundingSupport(confidence_scores=[0.80964804], grounding_chunk_indices=[5], segment=Segment(end_index=2428, part_index=None, start_index=2294, text='*   **Diversification:** It provides broad exposure to developed markets, which can be beneficial for diversifying a portfolio [6, 7].')), GroundingSupport(confidence_scores=[0.84104156], grounding_chunk_indices=[8], segment=Segment(end_index=2641, part_index=None, start_index=2574, text='Some alternatives include the MSCI ACWI or FTSE All World ETFs [4].')), GroundingSupport(confidence_scores=[0.9777264], grounding_chunk_indices=[9], segment=Segment(end_index=2833, part_index=None, start_index=2642, text='*   **Considerations:** When choosing an MSCI World ETF, you should consider factors like dividend distribution, fund domicile, currency, fund size, replication strategy, cost, and taxes [6].'))], retrieval_metadata=None, retrieval_queries=None, search_entry_point=SearchEntryPoint(rendered_content='<style>\\n.container {\\n  align-items: center;\\n  border-radius: 8px;\\n  display: flex;\\n  font-family: Google Sans, Roboto, sans-serif;\\n  font-size: 14px;\\n  line-height: 20px;\\n  padding: 8px 12px;\\n}\\n.chip {\\n  display: inline-block;\\n  border: solid 1px;\\n  border-radius: 16px;\\n  min-width: 14px;\\n  padding: 5px 16px;\\n  text-align: center;\\n  user-select: none;\\n  margin: 0 8px;\\n  -webkit-tap-highlight-color: transparent;\\n}\\n.carousel {\\n  overflow: auto;\\n  scrollbar-width: none;\\n  white-space: nowrap;\\n  margin-right: -12px;\\n}\\n.headline {\\n  display: flex;\\n  margin-right: 4px;\\n}\\n.gradient-container {\\n  position: relative;\\n}\\n.gradient {\\n  position: absolute;\\n  transform: translate(3px, -9px);\\n  height: 36px;\\n  width: 9px;\\n}\\n@media (prefers-color-scheme: light) {\\n  .container {\\n    background-color: #fafafa;\\n    box-shadow: 0 0 0 1px #0000000f;\\n  }\\n  .headline-label {\\n    color: #1f1f1f;\\n  }\\n  .chip {\\n    background-color: #ffffff;\\n    border-color: #d2d2d2;\\n    color: #5e5e5e;\\n    text-decoration: none;\\n  }\\n  .chip:hover {\\n    background-color: #f2f2f2;\\n  }\\n  .chip:focus {\\n    background-color: #f2f2f2;\\n  }\\n  .chip:active {\\n    background-color: #d8d8d8;\\n    border-color: #b6b6b6;\\n  }\\n  .logo-dark {\\n    display: none;\\n  }\\n  .gradient {\\n    background: linear-gradient(90deg, #fafafa 15%, #fafafa00 100%);\\n  }\\n}\\n@media (prefers-color-scheme: dark) {\\n  .container {\\n    background-color: #1f1f1f;\\n    box-shadow: 0 0 0 1px #ffffff26;\\n  }\\n  .headline-label {\\n    color: #fff;\\n  }\\n  .chip {\\n    background-color: #2c2c2c;\\n    border-color: #3c4043;\\n    color: #fff;\\n    text-decoration: none;\\n  }\\n  .chip:hover {\\n    background-color: #353536;\\n  }\\n  .chip:focus {\\n    background-color: #353536;\\n  }\\n  .chip:active {\\n    background-color: #464849;\\n    border-color: #53575b;\\n  }\\n  .logo-light {\\n    display: none;\\n  }\\n  .gradient {\\n    background: linear-gradient(90deg, #1f1f1f 15%, #1f1f1f00 100%);\\n  }\\n}\\n</style>\\n<div class=\"container\">\\n  <div class=\"headline\">\\n    <svg class=\"logo-light\" width=\"18\" height=\"18\" viewBox=\"9 9 35 35\" fill=\"none\" xmlns=\"http://www.w3.org/2000/svg\">\\n      <path fill-rule=\"evenodd\" clip-rule=\"evenodd\" d=\"M42.8622 27.0064C42.8622 25.7839 42.7525 24.6084 42.5487 23.4799H26.3109V30.1568H35.5897C35.1821 32.3041 33.9596 34.1222 32.1258 35.3448V39.6864H37.7213C40.9814 36.677 42.8622 32.2571 42.8622 27.0064V27.0064Z\" fill=\"#4285F4\"/>\\n      <path fill-rule=\"evenodd\" clip-rule=\"evenodd\" d=\"M26.3109 43.8555C30.9659 43.8555 34.8687 42.3195 37.7213 39.6863L32.1258 35.3447C30.5898 36.3792 28.6306 37.0061 26.3109 37.0061C21.8282 37.0061 18.0195 33.9811 16.6559 29.906H10.9194V34.3573C13.7563 39.9841 19.5712 43.8555 26.3109 43.8555V43.8555Z\" fill=\"#34A853\"/>\\n      <path fill-rule=\"evenodd\" clip-rule=\"evenodd\" d=\"M16.6559 29.8904C16.3111 28.8559 16.1074 27.7588 16.1074 26.6146C16.1074 25.4704 16.3111 24.3733 16.6559 23.3388V18.8875H10.9194C9.74388 21.2072 9.06992 23.8247 9.06992 26.6146C9.06992 29.4045 9.74388 32.022 10.9194 34.3417L15.3864 30.8621L16.6559 29.8904V29.8904Z\" fill=\"#FBBC05\"/>\\n      <path fill-rule=\"evenodd\" clip-rule=\"evenodd\" d=\"M26.3109 16.2386C28.85 16.2386 31.107 17.1164 32.9095 18.8091L37.8466 13.8719C34.853 11.082 30.9659 9.3736 26.3109 9.3736C19.5712 9.3736 13.7563 13.245 10.9194 18.8875L16.6559 23.3388C18.0195 19.2636 21.8282 16.2386 26.3109 16.2386V16.2386Z\" fill=\"#EA4335\"/>\\n    </svg>\\n    <svg class=\"logo-dark\" width=\"18\" height=\"18\" viewBox=\"0 0 48 48\" xmlns=\"http://www.w3.org/2000/svg\">\\n      <circle cx=\"24\" cy=\"23\" fill=\"#FFF\" r=\"22\"/>\\n      <path d=\"M33.76 34.26c2.75-2.56 4.49-6.37 4.49-11.26 0-.89-.08-1.84-.29-3H24.01v5.99h8.03c-.4 2.02-1.5 3.56-3.07 4.56v.75l3.91 2.97h.88z\" fill=\"#4285F4\"/>\\n      <path d=\"M15.58 25.77A8.845 8.845 0 0 0 24 31.86c1.92 0 3.62-.46 4.97-1.31l4.79 3.71C31.14 36.7 27.65 38 24 38c-5.93 0-11.01-3.4-13.45-8.36l.17-1.01 4.06-2.85h.8z\" fill=\"#34A853\"/>\\n      <path d=\"M15.59 20.21a8.864 8.864 0 0 0 0 5.58l-5.03 3.86c-.98-2-1.53-4.25-1.53-6.64 0-2.39.55-4.64 1.53-6.64l1-.22 3.81 2.98.22 1.08z\" fill=\"#FBBC05\"/>\\n      <path d=\"M24 14.14c2.11 0 4.02.75 5.52 1.98l4.36-4.36C31.22 9.43 27.81 8 24 8c-5.93 0-11.01 3.4-13.45 8.36l5.03 3.85A8.86 8.86 0 0 1 24 14.14z\" fill=\"#EA4335\"/>\\n    </svg>\\n    <div class=\"gradient-container\"><div class=\"gradient\"></div></div>\\n  </div>\\n  <div class=\"carousel\">\\n    <a class=\"chip\" href=\"https://vertexaisearch.cloud.google.com/grounding-api-redirect/AYygrcQfmtGpKVDXzJBRhQVGfaG7ZrKf617lAtkgbqVxb1lRPAx-iI-erx3T_eoU4tJRoTXmg7u0ycPIslNQtoQ5s4KFWvbCv4dciY_-UGoFBhyMBQifQ1y8FdGeJIAA-xJgX1vIW3-s-2-inaNgY4J6hm4MJHTK6eHXSGQW-eUVThqqbXJnAKvogNmYuNMFP4GAxEWATe8cztSVWimefDkjkKdrOhI=\">MSCI World ETF 2024 performance</a>\\n    <a class=\"chip\" href=\"https://vertexaisearch.cloud.google.com/grounding-api-redirect/AYygrcRiOHYR0rxt4SkPlprnkimtpvwPZgV1iH1VZiO0gkF0PoJJb9qS3OnanRO7p9t-Xt6_z_E5pwK5iqJwnushwMyUfnfuO26Kfomws4j1CGMXlwVZ7Lu3faXhINu63xgiln0SYyKSAg3zIJ3vEo3x0vBa70Xl0XKHhBxYECzh5Ele4mC7H42fQx7T9eZKLWKiTdNNJqnC_54-j_38TRQLSl3e\">MSCI World ETF current status</a>\\n    <a class=\"chip\" href=\"https://vertexaisearch.cloud.google.com/grounding-api-redirect/AYygrcTyunqZU5FD3TXTNJAurjWEEi97U9TF8zaVuDLua5D0Ngds_ABeV2IHb2qDRvB3z_3kD_6HFwxRx05pTaW-naSFkNwLEGk_nvq2hC-YZ3-q-dIrVcOrm0I-OsTvtIrWdevujZsx-rvTUbIDSQttHkCDSzgjjcS-P_VN_8zMWf0tRkNoDKQaHcA6VxYaHE9cl0PsTgGs-V002nauI4X_RFaAh4S-bAPGIpw=\">Should I invest in MSCI World ETF now</a>\\n  </div>\\n</div>\\n', sdk_blob=None), web_search_queries=['MSCI World ETF current status', 'MSCI World ETF 2024 performance', 'Should I invest in MSCI World ETF now']), index=None, logprobs_result=None, safety_ratings=None)\n"
     ]
    }
   ],
   "source": [
    "for i in response.candidates:\n",
    "    pprint.pprint(i)"
   ]
  }
 ],
 "metadata": {
  "kernelspec": {
   "display_name": ".venv",
   "language": "python",
   "name": "python3"
  },
  "language_info": {
   "codemirror_mode": {
    "name": "ipython",
    "version": 3
   },
   "file_extension": ".py",
   "mimetype": "text/x-python",
   "name": "python",
   "nbconvert_exporter": "python",
   "pygments_lexer": "ipython3",
   "version": "3.12.8"
  }
 },
 "nbformat": 4,
 "nbformat_minor": 2
}
