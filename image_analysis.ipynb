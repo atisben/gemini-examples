{
 "cells": [
  {
   "cell_type": "code",
   "execution_count": 1,
   "metadata": {},
   "outputs": [],
   "source": [
    "\n",
    "import os\n",
    "from dotenv import load_dotenv\n",
    "load_dotenv(override=True)\n",
    "import pprint\n",
    "import base64\n",
    "from google import genai\n",
    "from google.genai import types\n",
    "from google.genai.types import GenerateContentConfig\n",
    "\n",
    "# importing Image module from PIL package  \n",
    "from PIL import Image  "
   ]
  },
  {
   "cell_type": "markdown",
   "metadata": {},
   "source": [
    "### Instanciate the API"
   ]
  },
  {
   "cell_type": "code",
   "execution_count": 2,
   "metadata": {},
   "outputs": [],
   "source": [
    "client = genai.Client(\n",
    "    vertexai=True,\n",
    "    project=os.getenv(\"PROJECT_ID\"), \n",
    "    location=os.getenv(\"LOCATION\")\n",
    ")"
   ]
  },
  {
   "cell_type": "code",
   "execution_count": 3,
   "metadata": {},
   "outputs": [
    {
     "name": "stderr",
     "output_type": "stream",
     "text": [
      "c:\\Users\\User\\gemini-examples\\.venv\\Lib\\site-packages\\google\\auth\\_default.py:76: UserWarning: Your application has authenticated using end user credentials from Google Cloud SDK without a quota project. You might receive a \"quota exceeded\" or \"API not enabled\" error. See the following page for troubleshooting: https://cloud.google.com/docs/authentication/adc-troubleshooting/user-creds. \n",
      "  warnings.warn(_CLOUD_SDK_CREDENTIALS_WARNING)\n",
      "WARNING:google.auth._default:No project ID could be determined. Consider running `gcloud config set project` or setting the GOOGLE_CLOUD_PROJECT environment variable\n"
     ]
    },
    {
     "name": "stdout",
     "output_type": "stream",
     "text": [
      "Certainly! \n",
      "\n",
      "This image is an advertisement for **Clicquot Champagne**. It emphasizes its French origin and luxurious appeal, depicting a celebratory scene with people enjoying the champagne. The ad also highlights the brand's history, mentioning that it has been \"prominently served since 1772.\"\n"
     ]
    }
   ],
   "source": [
    "model = os.getenv(\"MODEL\")\n",
    "   \n",
    "# opening an image  \n",
    "with open(\"./inputs/veuve-ad.jpg\", \"rb\") as f:\n",
    "    bytes = f.read()\n",
    "\n",
    "image_file = types.Part.from_bytes(\n",
    "    data=bytes, mime_type=\"image/jpg\"\n",
    ")\n",
    "\n",
    "# Query the model\n",
    "response = client.models.generate_content(model=model, contents=[image_file, \"what is this image?\"])\n",
    "print(response.text)"
   ]
  },
  {
   "cell_type": "markdown",
   "metadata": {},
   "source": [
    "### Read unsafe image"
   ]
  },
  {
   "cell_type": "code",
   "execution_count": 4,
   "metadata": {},
   "outputs": [],
   "source": [
    "generate_content_config = GenerateContentConfig(\n",
    "    temperature=1, \n",
    "    top_p=0.95, \n",
    "    max_output_tokens=8192,\n",
    "    safety_settings = [types.SafetySetting(\n",
    "      category=\"HARM_CATEGORY_HATE_SPEECH\",\n",
    "      threshold=\"BLOCK_LOW_AND_ABOVE\"\n",
    "    ),types.SafetySetting(\n",
    "      category=\"HARM_CATEGORY_DANGEROUS_CONTENT\",\n",
    "      threshold=\"BLOCK_LOW_AND_ABOVE\"\n",
    "    ),types.SafetySetting(\n",
    "      category=\"HARM_CATEGORY_SEXUALLY_EXPLICIT\",\n",
    "      threshold=\"BLOCK_LOW_AND_ABOVE\"\n",
    "    ),types.SafetySetting(\n",
    "      category=\"HARM_CATEGORY_HARASSMENT\",\n",
    "      threshold=\"BLOCK_LOW_AND_ABOVE\"\n",
    "    )],\n",
    ")"
   ]
  },
  {
   "cell_type": "code",
   "execution_count": 5,
   "metadata": {},
   "outputs": [
    {
     "name": "stdout",
     "output_type": "stream",
     "text": [
      "Certainly! This image depicts a group of people in what appears to be a conflict or post-conflict zone. \n",
      "\n",
      "Here's a breakdown of what's happening:\n",
      "\n",
      "*   **Carrying a Woman:** Two soldiers in camouflage uniforms are carrying a woman in their arms. She appears to be injured or incapacitated and is being moved to safety. Her face shows a mixture of stress and weariness. The fact that the woman is being carried suggests she may be hurt or unable to walk on her own.\n",
      "*   **Soldiers' Appearance:** The soldiers are wearing full military gear including helmets, neck gaiters, and camouflage clothing. One is also carrying a rifle. The patches on their arms suggest these are Ukrainian soldiers, as the yellow armbands are widely recognized as a symbol of the Ukrainian military.\n",
      "*   **Other Figures:** There are two other men behind them. One of them appears to be taking photographs or video with a camera, while the other seems to be observing the situation. These men are likely civilians or perhaps members of the press.\n",
      "*   **Environment:** The environment appears to be a rugged, desolate area, possibly near a town. The ground is uneven, and there are many bare trees and bushes. There is also some light pollution and the silhouettes of buildings are visible in the distance along with a cloud of smoke. The overall setting feels tense and potentially dangerous.\n",
      "*   **Overall Tone:** The image has a somber and urgent tone. The scene conveys a sense of desperation and the need for immediate assistance. The soldiers' efforts to carry the woman and the presence of observers emphasize the reality of the situation.\n",
      "\n",
      "Overall, the photograph captures a moment of rescue and concern in what is likely a war-torn location. The image has a powerful sense of urgency and highlights the human cost of conflict.\n"
     ]
    }
   ],
   "source": [
    "   \n",
    "# opening an image  \n",
    "with open(\"./inputs/ukrainian-war.png\", \"rb\") as f:\n",
    "    bytes = f.read()\n",
    "\n",
    "image_file = types.Part.from_bytes(\n",
    "    data=bytes, mime_type=\"image/png\"\n",
    ")\n",
    "\n",
    "# Query the model\n",
    "response = client.models.generate_content(\n",
    "    model=model, \n",
    "    contents=[image_file, \"what is this image?\"],\n",
    "    config=generate_content_config\n",
    "    \n",
    "    )\n",
    "print(response.text)"
   ]
  },
  {
   "cell_type": "markdown",
   "metadata": {},
   "source": [
    "### Add output parser"
   ]
  },
  {
   "cell_type": "code",
   "execution_count": 6,
   "metadata": {},
   "outputs": [],
   "source": [
    "\n",
    "response_schema = {\n",
    "    \"type\": \"array\",\n",
    "    \"items\": {\n",
    "        \"type\": \"object\",\n",
    "        \"properties\": {\n",
    "            \"image_nature\": {\"type\": \"string\"},\n",
    "            \"colors\": {\n",
    "                \"type\": \"array\",\n",
    "                \"items\": {\"type\": \"string\"} \n",
    "            }\n",
    "        },\n",
    "        \"required\": [\"image_nature\", \"colors\"],\n",
    "    },\n",
    "}\n"
   ]
  },
  {
   "cell_type": "code",
   "execution_count": 13,
   "metadata": {},
   "outputs": [
    {
     "name": "stdout",
     "output_type": "stream",
     "text": [
      "[\n",
      "  {\n",
      "    \"colors\": [\"brown\", \"gray\", \"green\", \"pink\", \"black\"],\n",
      "    \"image_nature\": \"photograph\"\n",
      "  }\n",
      "]\n"
     ]
    }
   ],
   "source": [
    "\n",
    "response = client.models.generate_content(\n",
    "    model=os.getenv(\"MODEL\"),\n",
    "    contents=[image_file, \"what is this image?\"],\n",
    "    config=GenerateContentConfig(\n",
    "        response_mime_type=\"application/json\", response_schema=response_schema\n",
    "    ),\n",
    ")\n",
    "\n",
    "print(response.text)"
   ]
  },
  {
   "cell_type": "markdown",
   "metadata": {},
   "source": [
    "### Using Langchain"
   ]
  },
  {
   "cell_type": "code",
   "execution_count": null,
   "metadata": {},
   "outputs": [],
   "source": [
    "from langchain_google_vertexai import ChatVertexAI, SafetySetting\n",
    "from langchain_core.output_parsers.json import JsonOutputParser\n",
    "from langchain_core.runnables import chain\n",
    "from langchain_core.messages import HumanMessage\n",
    "from typing import Literal\n",
    "from pydantic import Field, BaseModel\n",
    "\n",
    "from langchain_google_vertexai import (\n",
    "    HarmBlockThreshold,\n",
    "    HarmCategory,\n",
    ")\n",
    "\n",
    "\n",
    "llm = ChatVertexAI(\n",
    "    model=\"gemini-1.5-pro\",\n",
    "    temperature=0,\n",
    "    max_tokens=None,\n",
    "    timeout=None,\n",
    "    max_retries=2,\n",
    "    project=os.getenv(\"PROJECT_ID\"),\n",
    "    location=os.getenv(\"LOCATION\")\n",
    "    # safety_settings={\n",
    "    #     HarmCategory.HARM_CATEGORY_DANGEROUS_CONTENT: HarmBlockThreshold.BLOCK_NONE,\n",
    "    # },\n",
    "    # other params...\n",
    ")\n",
    "\n",
    "\n",
    "class ImageInformation(BaseModel):\n",
    "    \"\"\"Information about an image.\"\"\"\n",
    "    call_to_action: Literal[\"yes\", \"no\"] = Field(description=\"Indicates whether a call to action is present in the image\")  \n",
    "    call_to_action_size: int = Field(description=\"If a call to action is present, specifies the percentage of the image area covered by the call to action\")  \n",
    "    car_model: str = Field(description=\"If applicable, specifies the model of the car shown in the image\")  \n",
    "    price: Literal[\"yes\", \"no\"] = Field(description=\"Indicates whether a price is displayed in the image\")  \n",
    "    ad_purpose: str = Field(description=\"If applicable, describes the main action or objective encouraged by the ad, such as 'buy', 'sign up', 'learn more', etc.\")  \n",
    "    price_size: int = Field(description=\"If a price is displayed, specifies the percentage of the image area covered by the price\")  \n",
    "    discount_display: Literal[\"yes\", \"no\"] = Field(description=\"Indicates whether a discount message is present in the ad\")  \n",
    "    promotion_wording_type: Literal[\"gain\", \"unknown\", \"loss_aversion\"] = Field(description=\"Specifies the type of promotion wording used in the ad: 'gain' for emphasizing benefits, 'loss_aversion' for emphasizing avoidance of loss, or 'None' if there is no promotion wording\")  \n",
    "    call_to_action_verb: str = Field(description=\"Specifies the verb used in the call to action, such as 'buy', 'subscribe', 'discover', if present\")  \n",
    "    promotion_deadline: Literal[\"yes\", \"no\"] = Field(description=\"Indicates whether a promotion deadline is displayed in the image\")  \n",
    "    promotion_theme: str = Field(description=\"Specifies if the promotion is linked to a special calendar event, e.g., Black Friday, Christmas, New Year, etc.\")  \n",
    "    promotion_tone: Literal[\"unknown\", \"informative\", \"persuasive\", \"emotional\", \"humorous\", \"inspirational\", \"authoritative\", \"urgent\", \"relatable\"] = Field(description=\"Indicates the tone of voice used in the advertisement, if applicable\")  \n",
    "    new_old_vehicle: Literal[\"new\", \"old\", \"second_hand\", \"unknown\"] = Field(description=\"Indicates whether the advertised vehicle is new or old\") \n",
    "    brand_logo: Literal[\"yes\", \"no\"] = Field(description=\"Indicates whether the brand logo is visible in the image\")\n",
    "    color_scheme: str = Field(description=\"Describes the dominant color scheme used in the advertisement, such as 'bright', 'pastel', 'monochrome', etc.\")\n",
    "    text_density: int = Field(description=\"Specifies the percentage of the image area covered by text\")\n",
    "    visual_style: str = Field(description=\"Describes the visual style of the advertisement, such as 'minimalistic', 'busy', 'vintage', 'modern', etc.\")\n",
    "    target_audience: str = Field(description=\"Specifies the primary target audience for the advertisement, such as 'young adults', 'families', 'business professionals', etc.\")\n",
    "\n",
    "\n",
    "parser = JsonOutputParser(pydantic_object=ImageInformation)\n",
    "\n"
   ]
  },
  {
   "cell_type": "code",
   "execution_count": 17,
   "metadata": {},
   "outputs": [
    {
     "name": "stderr",
     "output_type": "stream",
     "text": [
      "c:\\Users\\User\\gemini-examples\\.venv\\Lib\\site-packages\\google\\auth\\_default.py:76: UserWarning: Your application has authenticated using end user credentials from Google Cloud SDK without a quota project. You might receive a \"quota exceeded\" or \"API not enabled\" error. See the following page for troubleshooting: https://cloud.google.com/docs/authentication/adc-troubleshooting/user-creds. \n",
      "  warnings.warn(_CLOUD_SDK_CREDENTIALS_WARNING)\n",
      "WARNING:google.auth._default:No project ID could be determined. Consider running `gcloud config set project` or setting the GOOGLE_CLOUD_PROJECT environment variable\n"
     ]
    },
    {
     "data": {
      "text/plain": [
       "AIMessage(content='Hello! 👋  How can I help you today? 😊 \\n', additional_kwargs={}, response_metadata={'is_blocked': False, 'safety_ratings': [{'category': 'HARM_CATEGORY_HATE_SPEECH', 'probability_label': 'NEGLIGIBLE', 'blocked': False, 'severity': 'HARM_SEVERITY_NEGLIGIBLE'}, {'category': 'HARM_CATEGORY_DANGEROUS_CONTENT', 'probability_label': 'NEGLIGIBLE', 'blocked': False, 'severity': 'HARM_SEVERITY_NEGLIGIBLE'}, {'category': 'HARM_CATEGORY_HARASSMENT', 'probability_label': 'NEGLIGIBLE', 'blocked': False, 'severity': 'HARM_SEVERITY_NEGLIGIBLE'}, {'category': 'HARM_CATEGORY_SEXUALLY_EXPLICIT', 'probability_label': 'NEGLIGIBLE', 'blocked': False, 'severity': 'HARM_SEVERITY_NEGLIGIBLE'}], 'usage_metadata': {'prompt_token_count': 1, 'candidates_token_count': 14, 'total_token_count': 15, 'cached_content_token_count': 0}, 'finish_reason': 'STOP', 'avg_logprobs': -0.05891899125916617}, id='run-c7bb8ed4-f84a-4e16-b1d1-dd53c3e617c9-0', usage_metadata={'input_tokens': 1, 'output_tokens': 14, 'total_tokens': 15})"
      ]
     },
     "execution_count": 17,
     "metadata": {},
     "output_type": "execute_result"
    }
   ],
   "source": [
    "llm.invoke(\"hello\")"
   ]
  },
  {
   "cell_type": "code",
   "execution_count": 24,
   "metadata": {},
   "outputs": [
    {
     "name": "stdout",
     "output_type": "stream",
     "text": [
      "content='```json\\n{\"call_to_action\": \"no\", \"call_to_action_size\": 0, \"car_model\": \"unknown\", \"price\": \"no\", \"ad_purpose\": \"unknown\", \"price_size\": 0, \"discount_display\": \"no\", \"promotion_wording_type\": \"unknown\", \"call_to_action_verb\": \"unknown\", \"promotion_deadline\": \"no\", \"promotion_theme\": \"unknown\", \"promotion_tone\": \"unknown\", \"new_old_vehicle\": \"unknown\", \"brand_logo\": \"yes\", \"color_scheme\": \"unknown\", \"text_density\": 10, \"visual_style\": \"unknown\", \"target_audience\": \"unknown\"}\\n```' additional_kwargs={} response_metadata={'is_blocked': False, 'safety_ratings': [{'category': 'HARM_CATEGORY_HATE_SPEECH', 'probability_label': 'LOW', 'blocked': False, 'severity': 'HARM_SEVERITY_NEGLIGIBLE'}, {'category': 'HARM_CATEGORY_DANGEROUS_CONTENT', 'probability_label': 'NEGLIGIBLE', 'blocked': False, 'severity': 'HARM_SEVERITY_LOW'}, {'category': 'HARM_CATEGORY_HARASSMENT', 'probability_label': 'NEGLIGIBLE', 'blocked': False, 'severity': 'HARM_SEVERITY_NEGLIGIBLE'}, {'category': 'HARM_CATEGORY_SEXUALLY_EXPLICIT', 'probability_label': 'NEGLIGIBLE', 'blocked': False, 'severity': 'HARM_SEVERITY_LOW'}], 'usage_metadata': {'prompt_token_count': 1371, 'candidates_token_count': 163, 'total_token_count': 1534, 'cached_content_token_count': 0}, 'finish_reason': 'STOP', 'avg_logprobs': -0.0025089726857612468} id='run-313f8d06-c182-4a23-952e-fb0ed82666f4-0' usage_metadata={'input_tokens': 1371, 'output_tokens': 163, 'total_tokens': 1534}\n"
     ]
    }
   ],
   "source": [
    "import base64\n",
    "with open(\"./inputs/veuve-ad.jpg\", \"rb\") as f:\n",
    "    encoded_string = base64.b64encode(f.read()).decode(encoding=\"utf-8\")\n",
    "\n",
    "    prompt = \"retrieve information about the image\"\n",
    "\n",
    "    msg = llm.invoke(\n",
    "            [HumanMessage(\n",
    "            content=[\n",
    "            {\"type\": \"text\", \"text\": prompt},\n",
    "            {\"type\": \"text\", \"text\": parser.get_format_instructions()},\n",
    "            {\"type\": \"image_url\", \"image_url\": {\"url\": f\"data:image/jpeg;base64,{encoded_string}\"}},\n",
    "            ])]\n",
    "            )\n",
    "\n",
    "print(msg)"
   ]
  }
 ],
 "metadata": {
  "kernelspec": {
   "display_name": ".venv",
   "language": "python",
   "name": "python3"
  },
  "language_info": {
   "codemirror_mode": {
    "name": "ipython",
    "version": 3
   },
   "file_extension": ".py",
   "mimetype": "text/x-python",
   "name": "python",
   "nbconvert_exporter": "python",
   "pygments_lexer": "ipython3",
   "version": "3.12.8"
  }
 },
 "nbformat": 4,
 "nbformat_minor": 2
}
