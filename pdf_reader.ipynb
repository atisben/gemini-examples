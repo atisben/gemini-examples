{
 "cells": [
  {
   "cell_type": "code",
   "execution_count": null,
   "metadata": {},
   "outputs": [],
   "source": [
    "import os\n",
    "from google import genai\n",
    "from google.genai import types\n",
    "from google.genai.types import GenerateContentConfig\n",
    "\n",
    "from dotenv import load_dotenv\n",
    "load_dotenv(override=True)\n"
   ]
  },
  {
   "cell_type": "markdown",
   "metadata": {},
   "source": [
    "### Encoding the pdf file to Base64"
   ]
  },
  {
   "cell_type": "code",
   "execution_count": null,
   "metadata": {},
   "outputs": [],
   "source": [
    "with open(\"inputs/ai_adoption_framework_whitepaper.pdf\", 'rb') as f:\n",
    "  bytes = f.read()"
   ]
  },
  {
   "cell_type": "code",
   "execution_count": 2,
   "metadata": {},
   "outputs": [],
   "source": [
    "client = genai.Client(\n",
    "    vertexai=True, \n",
    "    project=os.getenv(\"PROJECT_ID\"), \n",
    "    location=os.getenv(\"LOCATION\")\n",
    ")"
   ]
  },
  {
   "cell_type": "code",
   "execution_count": 6,
   "metadata": {},
   "outputs": [
    {
     "name": "stdout",
     "output_type": "stream",
     "text": [
      "This\n",
      " document is about Google Cloud's AI Adoption Framework, which is designed to help organizations\n",
      " create and evolve their own AI capabilities. The document covers the following topics:\n",
      "\n",
      "\n",
      "- The power of AI\n",
      "- Leveraging the power of AI\n",
      "- The AI maturity themes\n",
      "- The AI maturity phases\n",
      "- The AI Maturity Scale\n",
      "\n",
      "- Putting it all together\n",
      "- Next steps\n",
      "- Technical deep-dive\n",
      "- Additional technical resources\n",
      "\n",
      "The document provides a roadmap for organizations of all sizes to\n",
      " adopt AI and get the most out of their investment. It also includes practical advice and tips for overcoming common challenges.\n",
      "\n"
     ]
    }
   ],
   "source": [
    "for chunk in client.models.generate_content_stream(\n",
    "    model='gemini-1.5-flash',\n",
    "    contents=[\n",
    "      'What is the document about',\n",
    "      types.Part.from_bytes(\n",
    "        data=bytes,\n",
    "        mime_type=\"application/pdf\"\n",
    "      )\n",
    "    ],\n",
    "):\n",
    "  print(chunk.text)"
   ]
  },
  {
   "cell_type": "code",
   "execution_count": null,
   "metadata": {},
   "outputs": [
    {
     "name": "stdout",
     "output_type": "stream",
     "text": [
      "Prompt Token Count: 24\n"
     ]
    },
    {
     "data": {
      "text/plain": [
       "CountTokensResponse(total_tokens=24, cached_content_token_count=None)"
      ]
     },
     "execution_count": 12,
     "metadata": {},
     "output_type": "execute_result"
    }
   ],
   "source": [
    "# Count the tokens\n",
    "\n",
    "# Prompt tokens count\n",
    "response = client.models.count_tokens(model = 'gemini-1.5-flash', contents=chunk.text)\n",
    "print(f\"Prompt Token Count: {response.total_tokens}\")\n",
    "\n",
    "response\n",
    "\n",
    "\n",
    "# usage_metadata = response.usage_metadata\n",
    "\n",
    "# # Response tokens count\n",
    "# print(f\"Prompt Token Count: {usage_metadata.prompt_token_count}\")\n",
    "# print(f\"Candidates Token Count: {usage_metadata.candidates_token_count}\")\n",
    "# print(f\"Total Token Count: {usage_metadata.total_token_count}\")"
   ]
  }
 ],
 "metadata": {
  "kernelspec": {
   "display_name": ".venv",
   "language": "python",
   "name": "python3"
  },
  "language_info": {
   "codemirror_mode": {
    "name": "ipython",
    "version": 3
   },
   "file_extension": ".py",
   "mimetype": "text/x-python",
   "name": "python",
   "nbconvert_exporter": "python",
   "pygments_lexer": "ipython3",
   "version": "3.12.8"
  }
 },
 "nbformat": 4,
 "nbformat_minor": 2
}
